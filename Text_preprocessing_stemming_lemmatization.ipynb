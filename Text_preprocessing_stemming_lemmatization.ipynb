{
 "cells": [
  {
   "cell_type": "code",
   "execution_count": 1,
   "metadata": {},
   "outputs": [],
   "source": [
    "import warnings\n",
    "warnings.filterwarnings(\"ignore\")\n"
   ]
  },
  {
   "cell_type": "code",
   "execution_count": 2,
   "metadata": {},
   "outputs": [],
   "source": [
    "import pandas as pd\n",
    "\n",
    "data = pd.read_csv('biology.csv')\n"
   ]
  },
  {
   "cell_type": "code",
   "execution_count": 3,
   "metadata": {},
   "outputs": [
    {
     "data": {
      "text/html": [
       "<div>\n",
       "<style scoped>\n",
       "    .dataframe tbody tr th:only-of-type {\n",
       "        vertical-align: middle;\n",
       "    }\n",
       "\n",
       "    .dataframe tbody tr th {\n",
       "        vertical-align: top;\n",
       "    }\n",
       "\n",
       "    .dataframe thead th {\n",
       "        text-align: right;\n",
       "    }\n",
       "</style>\n",
       "<table border=\"1\" class=\"dataframe\">\n",
       "  <thead>\n",
       "    <tr style=\"text-align: right;\">\n",
       "      <th></th>\n",
       "      <th>id</th>\n",
       "      <th>title</th>\n",
       "      <th>content</th>\n",
       "      <th>tags</th>\n",
       "    </tr>\n",
       "  </thead>\n",
       "  <tbody>\n",
       "    <tr>\n",
       "      <th>0</th>\n",
       "      <td>1</td>\n",
       "      <td>What is the criticality of the ribosome bindin...</td>\n",
       "      <td>&lt;p&gt;In prokaryotic translation, how critical fo...</td>\n",
       "      <td>ribosome binding-sites translation synthetic-b...</td>\n",
       "    </tr>\n",
       "    <tr>\n",
       "      <th>1</th>\n",
       "      <td>2</td>\n",
       "      <td>How is RNAse contamination in RNA based experi...</td>\n",
       "      <td>&lt;p&gt;Does anyone have any suggestions to prevent...</td>\n",
       "      <td>rna biochemistry</td>\n",
       "    </tr>\n",
       "  </tbody>\n",
       "</table>\n",
       "</div>"
      ],
      "text/plain": [
       "   id                                              title  \\\n",
       "0   1  What is the criticality of the ribosome bindin...   \n",
       "1   2  How is RNAse contamination in RNA based experi...   \n",
       "\n",
       "                                             content  \\\n",
       "0  <p>In prokaryotic translation, how critical fo...   \n",
       "1  <p>Does anyone have any suggestions to prevent...   \n",
       "\n",
       "                                                tags  \n",
       "0  ribosome binding-sites translation synthetic-b...  \n",
       "1                                   rna biochemistry  "
      ]
     },
     "execution_count": 3,
     "metadata": {},
     "output_type": "execute_result"
    }
   ],
   "source": [
    "data.head(2)"
   ]
  },
  {
   "cell_type": "code",
   "execution_count": 5,
   "metadata": {},
   "outputs": [
    {
     "data": {
      "text/plain": [
       "(13196, 4)"
      ]
     },
     "execution_count": 5,
     "metadata": {},
     "output_type": "execute_result"
    }
   ],
   "source": [
    "data.shape"
   ]
  },
  {
   "cell_type": "code",
   "execution_count": 36,
   "metadata": {},
   "outputs": [
    {
     "name": "stderr",
     "output_type": "stream",
     "text": [
      "[nltk_data] Downloading package stopwords to C:\\Users\\Shripad\n",
      "[nltk_data]     Bhat\\AppData\\Roaming\\nltk_data...\n",
      "[nltk_data]   Package stopwords is already up-to-date!\n",
      "[nltk_data] Downloading package punkt to C:\\Users\\Shripad\n",
      "[nltk_data]     Bhat\\AppData\\Roaming\\nltk_data...\n",
      "[nltk_data]   Package punkt is already up-to-date!\n",
      "[nltk_data] Downloading package wordnet to C:\\Users\\Shripad\n",
      "[nltk_data]     Bhat\\AppData\\Roaming\\nltk_data...\n",
      "[nltk_data]   Package wordnet is already up-to-date!\n",
      "[nltk_data] Downloading package averaged_perceptron_tagger to\n",
      "[nltk_data]     C:\\Users\\Shripad Bhat\\AppData\\Roaming\\nltk_data...\n",
      "[nltk_data]   Package averaged_perceptron_tagger is already up-to-\n",
      "[nltk_data]       date!\n"
     ]
    }
   ],
   "source": [
    "import nltk\n",
    "import re\n",
    "from nltk.corpus import stopwords\n",
    "from nltk.tokenize import word_tokenize \n",
    "from nltk.stem import PorterStemmer\n",
    "from nltk.stem import WordNetLemmatizer\n",
    "from nltk.corpus import wordnet\n",
    "\n",
    "nltk.download('stopwords')\n",
    "nltk.download('punkt')\n",
    "nltk.download('wordnet')\n",
    "nltk.download('averaged_perceptron_tagger')\n",
    "\n",
    "tag_dict = {\"J\": wordnet.ADJ,\"N\": wordnet.NOUN,\"V\": wordnet.VERB,\"R\": wordnet.ADV}\n",
    "\n",
    "\n",
    "class PreprocessText:\n",
    "    \n",
    "    def __init__(self,data,stemming=False,lemmatization=True):\n",
    "        self.data = data\n",
    "        self.stemming = stemming\n",
    "        self.lemmatization = lemmatization\n",
    "        \n",
    "        \n",
    "        \n",
    "    def transform(self):\n",
    "        list_of_rows = []\n",
    "        for i in range(self.data.shape[0]):\n",
    "            row = []\n",
    "            row.append(self.data['id'][i])\n",
    "            \n",
    "            title_text = self.data['title'][i]\n",
    "            decontracted_title = self.decontracted(title_text)\n",
    "            tags_punctuation_removed_title = self.removeTagsPunctuation(decontracted_title)\n",
    "            stemmed_or_lemmatized_title = self.removeStopWordsStemorLemmatize(tags_punctuation_removed_title)\n",
    "            title_lowercase = stemmed_or_lemmatized_title.lower()\n",
    "            row.append(title_lowercase)\n",
    "            \n",
    "            \n",
    "            content_text = self.data['content'][i]\n",
    "            decontracted_content = self.decontracted(content_text)\n",
    "            tags_punctuation_removed_content = self.removeTagsPunctuation(decontracted_content)\n",
    "            stemmed_or_lemmatized_content = self.removeStopWordsStemorLemmatize(tags_punctuation_removed_content)\n",
    "            content_lowercase = stemmed_or_lemmatized_content.lower()\n",
    "            row.append(content_lowercase)\n",
    "\n",
    "            \n",
    "            tags_text = self.data['tags'][i]\n",
    "            decontracted_tags = self.decontracted(tags_text)\n",
    "            tags_punctuation_removed_tags = self.removeTagsPunctuation(decontracted_tags)\n",
    "            stemmed_or_lemmatized_tags = self.removeStopWordsStemorLemmatize(tags_punctuation_removed_tags)\n",
    "            tags_lowercase = stemmed_or_lemmatized_tags.lower()\n",
    "            row.append(tags_lowercase)\n",
    "\n",
    "            \n",
    "            list_of_rows.append(row)\n",
    "            \n",
    "        transformed_data = pd.DataFrame(list_of_rows,columns = ['id','title','content','tags'])\n",
    "        return transformed_data\n",
    "            \n",
    "            \n",
    "    def removeTagsPunctuation(self,text):\n",
    "        #removing http url\n",
    "        x = re.sub('http[s]?://(?:[a-zA-Z]|[0-9]|[$-_@.&+] |[!*\\(\\), ]|(?:%[0-9a-fA-F][0-9a-fA-F]))+',\" \",text)\n",
    "        #removing tags \n",
    "        x = re.sub(\"<.*?>\",\" \",x)\n",
    "        #removing punctuation marks\n",
    "        x = re.sub(\"[\\.\\?:,\\\\n/()!<>\\\"]\",\" \",x)\n",
    "        return x\n",
    "    \n",
    "    def decontracted(self,phrase):\n",
    "        phrase = re.sub(r\"n\\'t\", \" not\", phrase)\n",
    "        phrase = re.sub(r\"\\'re\", \" are\", phrase)\n",
    "        phrase = re.sub(r\"\\'s\", \" is\", phrase)\n",
    "        phrase = re.sub(r\"\\'d\", \" would\", phrase)\n",
    "        phrase = re.sub(r\"\\'ll\", \" will\", phrase)\n",
    "        phrase = re.sub(r\"\\'t\", \" not\", phrase)\n",
    "        phrase = re.sub(r\"\\'ve\", \" have\", phrase)\n",
    "        phrase = re.sub(r\"\\'m\", \" am\", phrase)\n",
    "        return phrase\n",
    "    \n",
    "    def removeStopWordsStemorLemmatize(self,text):\n",
    "\n",
    "        stop_words = set(stopwords.words('english')) \n",
    "        word_tokens = word_tokenize(text) \n",
    "\n",
    "        final_sentence = []\n",
    "        if self.stemming:\n",
    "            ps = PorterStemmer()\n",
    "            final_sentence = [ ps.stem(word) for word in word_tokens]\n",
    "        else:\n",
    "            #performing lemmatization using tags associated with the words\n",
    "            lemmatizer = WordNetLemmatizer()\n",
    "            tagged_sentence = nltk.pos_tag(word_tokens)\n",
    "            final_sentence = [lemmatizer.lemmatize(word,tag_dict.get(tag[0].upper(),wordnet.NOUN)) for word,tag in tagged_sentence]   \n",
    "\n",
    "        filtered_sentence = [w for w in final_sentence if not w in stop_words] \n",
    "        return \" \".join(filtered_sentence)"
   ]
  },
  {
   "cell_type": "code",
   "execution_count": 71,
   "metadata": {},
   "outputs": [],
   "source": [
    "#By default lemmatization is performed unless stemming = True is specified\n",
    "processText = PreprocessText(data)\n",
    "processed_data = processText.transform()\n"
   ]
  },
  {
   "cell_type": "code",
   "execution_count": 85,
   "metadata": {},
   "outputs": [
    {
     "data": {
      "text/plain": [
       "\"<p>I'm looking for resources or any information about the formation of dendritic spines and synaptogenesis, especially in relation to how new connections are formed on a daily basis.</p>\\n\\n<p>Does the electrotonic signalling along the axons and through the spines cause new connections to be made based on some kind of spatial condition (maybe an electrical or chemical attraction), or is there some larger heuristic here?</p>\\n\""
      ]
     },
     "execution_count": 85,
     "metadata": {},
     "output_type": "execute_result"
    }
   ],
   "source": [
    "data['content'][6]"
   ]
  },
  {
   "cell_type": "code",
   "execution_count": 86,
   "metadata": {},
   "outputs": [
    {
     "data": {
      "text/plain": [
       "'i look resource information formation dendritic spine synaptogenesis especially relation new connection form daily basis does electrotonic signalling along axon spine cause new connection make base kind spatial condition maybe electrical chemical attraction large heuristic'"
      ]
     },
     "execution_count": 86,
     "metadata": {},
     "output_type": "execute_result"
    }
   ],
   "source": [
    "processed_data['content'][6]"
   ]
  },
  {
   "cell_type": "code",
   "execution_count": 87,
   "metadata": {},
   "outputs": [
    {
     "data": {
      "text/plain": [
       "'Under what conditions do dendritic spines form?'"
      ]
     },
     "execution_count": 87,
     "metadata": {},
     "output_type": "execute_result"
    }
   ],
   "source": [
    "data['title'][6]"
   ]
  },
  {
   "cell_type": "code",
   "execution_count": 88,
   "metadata": {},
   "outputs": [
    {
     "data": {
      "text/plain": [
       "'under condition dendritic spine form'"
      ]
     },
     "execution_count": 88,
     "metadata": {},
     "output_type": "execute_result"
    }
   ],
   "source": [
    "processed_data['title'][6]"
   ]
  },
  {
   "cell_type": "code",
   "execution_count": 89,
   "metadata": {},
   "outputs": [
    {
     "data": {
      "text/plain": [
       "'neuroscience synapses'"
      ]
     },
     "execution_count": 89,
     "metadata": {},
     "output_type": "execute_result"
    }
   ],
   "source": [
    "data['tags'][6]"
   ]
  },
  {
   "cell_type": "code",
   "execution_count": 90,
   "metadata": {},
   "outputs": [
    {
     "data": {
      "text/plain": [
       "'neuroscience synapsis'"
      ]
     },
     "execution_count": 90,
     "metadata": {},
     "output_type": "execute_result"
    }
   ],
   "source": [
    "processed_data['tags'][6]"
   ]
  },
  {
   "cell_type": "markdown",
   "metadata": {},
   "source": [
    "# Difference between stemming and lemmatization"
   ]
  },
  {
   "cell_type": "code",
   "execution_count": 75,
   "metadata": {},
   "outputs": [],
   "source": [
    "processTextStem = PreprocessText(data.head(10),stemming = True)\n",
    "stemmed_text = processTextStem.transform()"
   ]
  },
  {
   "cell_type": "code",
   "execution_count": 93,
   "metadata": {},
   "outputs": [
    {
     "data": {
      "text/plain": [
       "\"<p>I'm looking for resources or any information about the formation of dendritic spines and synaptogenesis, especially in relation to how new connections are formed on a daily basis.</p>\\n\\n<p>Does the electrotonic signalling along the axons and through the spines cause new connections to be made based on some kind of spatial condition (maybe an electrical or chemical attraction), or is there some larger heuristic here?</p>\\n\""
      ]
     },
     "execution_count": 93,
     "metadata": {},
     "output_type": "execute_result"
    }
   ],
   "source": [
    "data['content'][6]"
   ]
  },
  {
   "cell_type": "code",
   "execution_count": 91,
   "metadata": {},
   "outputs": [
    {
     "data": {
      "text/plain": [
       "'i look resourc ani inform format dendrit spine synaptogenesi especi relat new connect form daili basi doe electroton signal along axon spine caus new connect made base kind spatial condit mayb electr chemic attract larger heurist'"
      ]
     },
     "execution_count": 91,
     "metadata": {},
     "output_type": "execute_result"
    }
   ],
   "source": [
    "stemmed_text['content'][6]"
   ]
  },
  {
   "cell_type": "code",
   "execution_count": 92,
   "metadata": {},
   "outputs": [
    {
     "data": {
      "text/plain": [
       "'i look resource information formation dendritic spine synaptogenesis especially relation new connection form daily basis does electrotonic signalling along axon spine cause new connection make base kind spatial condition maybe electrical chemical attraction large heuristic'"
      ]
     },
     "execution_count": 92,
     "metadata": {},
     "output_type": "execute_result"
    }
   ],
   "source": [
    "#lemmatized text\n",
    "processed_data['content'][6]"
   ]
  },
  {
   "cell_type": "markdown",
   "metadata": {},
   "source": [
    "# Summary of difference between stemming and lemmatization"
   ]
  },
  {
   "cell_type": "markdown",
   "metadata": {},
   "source": [
    "1. Stemming just removes the last few characters of the word to get to a root word which might not be a valid word but in case of lemmatization output is a meaningful word.\n",
    "2. Lemmatization can also work in diffrent ways based on the context i.e when it is provided with the word and part of the speech(adjective,noun,verb). Hence lemmatization is highly dependent on the context while in case stemming it is always the same for a particular word regardless of the context.\n"
   ]
  }
 ],
 "metadata": {
  "kernelspec": {
   "display_name": "Python 3",
   "language": "python",
   "name": "python3"
  },
  "language_info": {
   "codemirror_mode": {
    "name": "ipython",
    "version": 3
   },
   "file_extension": ".py",
   "mimetype": "text/x-python",
   "name": "python",
   "nbconvert_exporter": "python",
   "pygments_lexer": "ipython3",
   "version": "3.7.3"
  }
 },
 "nbformat": 4,
 "nbformat_minor": 2
}
