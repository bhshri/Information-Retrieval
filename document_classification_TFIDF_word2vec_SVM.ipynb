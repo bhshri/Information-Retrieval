{
 "cells": [
  {
   "cell_type": "markdown",
   "metadata": {
    "colab_type": "text",
    "id": "6on0swl4pqn-"
   },
   "source": [
    "# **DATA PREPARATION**"
   ]
  },
  {
   "cell_type": "code",
   "execution_count": 0,
   "metadata": {
    "colab": {},
    "colab_type": "code",
    "id": "i6qn7ivFEJWM"
   },
   "outputs": [],
   "source": [
    "from sklearn.datasets import load_files\n",
    "data = load_files('/content/bbc',shuffle=False,encoding='latin')"
   ]
  },
  {
   "cell_type": "code",
   "execution_count": 8,
   "metadata": {
    "colab": {
     "base_uri": "https://localhost:8080/",
     "height": 194
    },
    "colab_type": "code",
    "id": "GS-3pPuoFcxf",
    "outputId": "6d2c178e-5df5-4998-c5e7-e73238615814"
   },
   "outputs": [
    {
     "data": {
      "text/html": [
       "<div>\n",
       "<style scoped>\n",
       "    .dataframe tbody tr th:only-of-type {\n",
       "        vertical-align: middle;\n",
       "    }\n",
       "\n",
       "    .dataframe tbody tr th {\n",
       "        vertical-align: top;\n",
       "    }\n",
       "\n",
       "    .dataframe thead th {\n",
       "        text-align: right;\n",
       "    }\n",
       "</style>\n",
       "<table border=\"1\" class=\"dataframe\">\n",
       "  <thead>\n",
       "    <tr style=\"text-align: right;\">\n",
       "      <th></th>\n",
       "      <th>TEXT</th>\n",
       "      <th>LABEL</th>\n",
       "    </tr>\n",
       "  </thead>\n",
       "  <tbody>\n",
       "    <tr>\n",
       "      <th>0</th>\n",
       "      <td>Ad sales boost Time Warner profit\\n\\nQuarterly...</td>\n",
       "      <td>0</td>\n",
       "    </tr>\n",
       "    <tr>\n",
       "      <th>1</th>\n",
       "      <td>Dollar gains on Greenspan speech\\n\\nThe dollar...</td>\n",
       "      <td>0</td>\n",
       "    </tr>\n",
       "    <tr>\n",
       "      <th>2</th>\n",
       "      <td>Yukos unit buyer faces loan claim\\n\\nThe owner...</td>\n",
       "      <td>0</td>\n",
       "    </tr>\n",
       "    <tr>\n",
       "      <th>3</th>\n",
       "      <td>High fuel prices hit BA's profits\\n\\nBritish A...</td>\n",
       "      <td>0</td>\n",
       "    </tr>\n",
       "    <tr>\n",
       "      <th>4</th>\n",
       "      <td>Pernod takeover talk lifts Domecq\\n\\nShares in...</td>\n",
       "      <td>0</td>\n",
       "    </tr>\n",
       "  </tbody>\n",
       "</table>\n",
       "</div>"
      ],
      "text/plain": [
       "                                                TEXT  LABEL\n",
       "0  Ad sales boost Time Warner profit\\n\\nQuarterly...      0\n",
       "1  Dollar gains on Greenspan speech\\n\\nThe dollar...      0\n",
       "2  Yukos unit buyer faces loan claim\\n\\nThe owner...      0\n",
       "3  High fuel prices hit BA's profits\\n\\nBritish A...      0\n",
       "4  Pernod takeover talk lifts Domecq\\n\\nShares in...      0"
      ]
     },
     "execution_count": 8,
     "metadata": {
      "tags": []
     },
     "output_type": "execute_result"
    }
   ],
   "source": [
    "import pandas as pd\n",
    "bbc_news_data = list(zip(data.data,data.target))\n",
    "bbc_news_dataframe = pd.DataFrame(data = bbc_news_data, columns=['TEXT','LABEL'])\n",
    "bbc_news_dataframe.head()"
   ]
  },
  {
   "cell_type": "code",
   "execution_count": 0,
   "metadata": {
    "colab": {},
    "colab_type": "code",
    "id": "yUUDHtOslNw9"
   },
   "outputs": [],
   "source": [
    "bbc_news_dataframe.to_csv('/content/drive/My Drive/Information_Retrieval/bbc_news_dataframe.csv')"
   ]
  },
  {
   "cell_type": "code",
   "execution_count": 1,
   "metadata": {
    "colab": {
     "base_uri": "https://localhost:8080/",
     "height": 194
    },
    "colab_type": "code",
    "id": "Gu0FuOIfFRQq",
    "outputId": "2c67b094-f83e-454a-c1e8-c19209a05a69"
   },
   "outputs": [
    {
     "data": {
      "text/html": [
       "<div>\n",
       "<style scoped>\n",
       "    .dataframe tbody tr th:only-of-type {\n",
       "        vertical-align: middle;\n",
       "    }\n",
       "\n",
       "    .dataframe tbody tr th {\n",
       "        vertical-align: top;\n",
       "    }\n",
       "\n",
       "    .dataframe thead th {\n",
       "        text-align: right;\n",
       "    }\n",
       "</style>\n",
       "<table border=\"1\" class=\"dataframe\">\n",
       "  <thead>\n",
       "    <tr style=\"text-align: right;\">\n",
       "      <th></th>\n",
       "      <th>Unnamed: 0</th>\n",
       "      <th>TEXT</th>\n",
       "      <th>LABEL</th>\n",
       "    </tr>\n",
       "  </thead>\n",
       "  <tbody>\n",
       "    <tr>\n",
       "      <th>0</th>\n",
       "      <td>0</td>\n",
       "      <td>Ad sales boost Time Warner profit\\n\\nQuarterly...</td>\n",
       "      <td>0</td>\n",
       "    </tr>\n",
       "    <tr>\n",
       "      <th>1</th>\n",
       "      <td>1</td>\n",
       "      <td>Dollar gains on Greenspan speech\\n\\nThe dollar...</td>\n",
       "      <td>0</td>\n",
       "    </tr>\n",
       "    <tr>\n",
       "      <th>2</th>\n",
       "      <td>2</td>\n",
       "      <td>Yukos unit buyer faces loan claim\\n\\nThe owner...</td>\n",
       "      <td>0</td>\n",
       "    </tr>\n",
       "    <tr>\n",
       "      <th>3</th>\n",
       "      <td>3</td>\n",
       "      <td>High fuel prices hit BA's profits\\n\\nBritish A...</td>\n",
       "      <td>0</td>\n",
       "    </tr>\n",
       "    <tr>\n",
       "      <th>4</th>\n",
       "      <td>4</td>\n",
       "      <td>Pernod takeover talk lifts Domecq\\n\\nShares in...</td>\n",
       "      <td>0</td>\n",
       "    </tr>\n",
       "  </tbody>\n",
       "</table>\n",
       "</div>"
      ],
      "text/plain": [
       "   Unnamed: 0                                               TEXT  LABEL\n",
       "0           0  Ad sales boost Time Warner profit\\n\\nQuarterly...      0\n",
       "1           1  Dollar gains on Greenspan speech\\n\\nThe dollar...      0\n",
       "2           2  Yukos unit buyer faces loan claim\\n\\nThe owner...      0\n",
       "3           3  High fuel prices hit BA's profits\\n\\nBritish A...      0\n",
       "4           4  Pernod takeover talk lifts Domecq\\n\\nShares in...      0"
      ]
     },
     "execution_count": 1,
     "metadata": {
      "tags": []
     },
     "output_type": "execute_result"
    }
   ],
   "source": [
    "import pandas as pd\n",
    "\n",
    "bbc_news_dataframe = pd.read_csv('/content/drive/My Drive/Information_Retrieval/bbc_news_dataframe.csv',index_col=False)\n",
    "bbc_news_dataframe.head()"
   ]
  },
  {
   "cell_type": "code",
   "execution_count": 0,
   "metadata": {
    "colab": {},
    "colab_type": "code",
    "id": "lyM6sl_HFg3t"
   },
   "outputs": [],
   "source": [
    "target_names = ['business', 'entertainment', 'politics', 'sport', 'tech']"
   ]
  },
  {
   "cell_type": "code",
   "execution_count": 0,
   "metadata": {
    "colab": {},
    "colab_type": "code",
    "id": "Btm1ijnAIYk-"
   },
   "outputs": [],
   "source": [
    "from sklearn.model_selection import train_test_split\n",
    "bbc_news_train, bbc_news_test, bbc_news_train_labels, bbc_news_test_labels = train_test_split(bbc_news_dataframe['TEXT'], bbc_news_dataframe['LABEL'],\n",
    "                                                                                              stratify=bbc_news_dataframe['LABEL'], test_size=0.3,random_state = 10)"
   ]
  },
  {
   "cell_type": "markdown",
   "metadata": {
    "colab_type": "text",
    "id": "NOWMjwP2F19G"
   },
   "source": [
    "# **TF-IDF**"
   ]
  },
  {
   "cell_type": "code",
   "execution_count": 0,
   "metadata": {
    "colab": {},
    "colab_type": "code",
    "id": "WHz1sAeQi1xJ"
   },
   "outputs": [],
   "source": [
    "from sklearn.feature_extraction.text import TfidfVectorizer\n",
    "\n",
    "tfIdfVectorier = TfidfVectorizer(stop_words = 'english', min_df = 0)\n",
    "bbc_news_train_vectors = tfIdfVectorier.fit_transform(bbc_news_train)\n",
    "bbc_news_test_vectors = tfIdfVectorier.transform(bbc_news_test)"
   ]
  },
  {
   "cell_type": "code",
   "execution_count": 13,
   "metadata": {
    "colab": {
     "base_uri": "https://localhost:8080/",
     "height": 35
    },
    "colab_type": "code",
    "id": "L6knEsfQkSWJ",
    "outputId": "e02c04fb-a5ea-4c14-a2e9-f3fd6782541e"
   },
   "outputs": [
    {
     "data": {
      "text/plain": [
       "((1557, 25108), (668, 25108))"
      ]
     },
     "execution_count": 13,
     "metadata": {
      "tags": []
     },
     "output_type": "execute_result"
    }
   ],
   "source": [
    "bbc_news_train_vectors.shape,bbc_news_test_vectors.shape"
   ]
  },
  {
   "cell_type": "code",
   "execution_count": 14,
   "metadata": {
    "colab": {
     "base_uri": "https://localhost:8080/",
     "height": 370
    },
    "colab_type": "code",
    "id": "5TuwVisnkpxE",
    "outputId": "bbdf5974-c379-42a4-fc0c-9dfa5157e863"
   },
   "outputs": [
    {
     "data": {
      "text/html": [
       "<div>\n",
       "<style scoped>\n",
       "    .dataframe tbody tr th:only-of-type {\n",
       "        vertical-align: middle;\n",
       "    }\n",
       "\n",
       "    .dataframe tbody tr th {\n",
       "        vertical-align: top;\n",
       "    }\n",
       "\n",
       "    .dataframe thead th {\n",
       "        text-align: right;\n",
       "    }\n",
       "</style>\n",
       "<table border=\"1\" class=\"dataframe\">\n",
       "  <thead>\n",
       "    <tr style=\"text-align: right;\">\n",
       "      <th></th>\n",
       "      <th>param_C</th>\n",
       "      <th>mean_test_score</th>\n",
       "      <th>mean_train_score</th>\n",
       "    </tr>\n",
       "  </thead>\n",
       "  <tbody>\n",
       "    <tr>\n",
       "      <th>0</th>\n",
       "      <td>1e-06</td>\n",
       "      <td>0.273019</td>\n",
       "      <td>0.275355</td>\n",
       "    </tr>\n",
       "    <tr>\n",
       "      <th>1</th>\n",
       "      <td>1e-05</td>\n",
       "      <td>0.273019</td>\n",
       "      <td>0.275355</td>\n",
       "    </tr>\n",
       "    <tr>\n",
       "      <th>2</th>\n",
       "      <td>0.0001</td>\n",
       "      <td>0.273019</td>\n",
       "      <td>0.275355</td>\n",
       "    </tr>\n",
       "    <tr>\n",
       "      <th>3</th>\n",
       "      <td>0.001</td>\n",
       "      <td>0.273019</td>\n",
       "      <td>0.275355</td>\n",
       "    </tr>\n",
       "    <tr>\n",
       "      <th>4</th>\n",
       "      <td>0.01</td>\n",
       "      <td>0.273019</td>\n",
       "      <td>0.275355</td>\n",
       "    </tr>\n",
       "    <tr>\n",
       "      <th>5</th>\n",
       "      <td>0.1</td>\n",
       "      <td>0.782884</td>\n",
       "      <td>0.841684</td>\n",
       "    </tr>\n",
       "    <tr>\n",
       "      <th>6</th>\n",
       "      <td>1</td>\n",
       "      <td>0.974307</td>\n",
       "      <td>0.999197</td>\n",
       "    </tr>\n",
       "    <tr>\n",
       "      <th>7</th>\n",
       "      <td>10</td>\n",
       "      <td>0.974307</td>\n",
       "      <td>1.000000</td>\n",
       "    </tr>\n",
       "    <tr>\n",
       "      <th>8</th>\n",
       "      <td>100</td>\n",
       "      <td>0.974307</td>\n",
       "      <td>1.000000</td>\n",
       "    </tr>\n",
       "    <tr>\n",
       "      <th>9</th>\n",
       "      <td>1000</td>\n",
       "      <td>0.974307</td>\n",
       "      <td>1.000000</td>\n",
       "    </tr>\n",
       "    <tr>\n",
       "      <th>10</th>\n",
       "      <td>10000</td>\n",
       "      <td>0.974307</td>\n",
       "      <td>1.000000</td>\n",
       "    </tr>\n",
       "  </tbody>\n",
       "</table>\n",
       "</div>"
      ],
      "text/plain": [
       "   param_C  mean_test_score  mean_train_score\n",
       "0    1e-06         0.273019          0.275355\n",
       "1    1e-05         0.273019          0.275355\n",
       "2   0.0001         0.273019          0.275355\n",
       "3    0.001         0.273019          0.275355\n",
       "4     0.01         0.273019          0.275355\n",
       "5      0.1         0.782884          0.841684\n",
       "6        1         0.974307          0.999197\n",
       "7       10         0.974307          1.000000\n",
       "8      100         0.974307          1.000000\n",
       "9     1000         0.974307          1.000000\n",
       "10   10000         0.974307          1.000000"
      ]
     },
     "execution_count": 14,
     "metadata": {
      "tags": []
     },
     "output_type": "execute_result"
    }
   ],
   "source": [
    "from sklearn.model_selection import GridSearchCV \n",
    "from sklearn.svm import SVC\n",
    "from sklearn.metrics import f1_score\n",
    "import pandas as pd\n",
    "\n",
    "svm = SVC(kernel = 'linear',random_state = 0)\n",
    "param_grid = {'C':[10**-6,10**(-5),10**(-4),10**(-3),10**(-2),10**(-1),1,10,100,1000,10000]}\n",
    "gridSearch = GridSearchCV(svm, param_grid,scoring = 'f1_micro',cv = 5)\n",
    "gridSearch.return_train_score = True\n",
    "gridSearch.fit(bbc_news_train_vectors,bbc_news_train_labels)\n",
    "\n",
    "dataframe = pd.DataFrame(gridSearch.cv_results_)\n",
    "dataframe[['param_C','mean_test_score','mean_train_score']]"
   ]
  },
  {
   "cell_type": "code",
   "execution_count": 0,
   "metadata": {
    "colab": {},
    "colab_type": "code",
    "id": "3xwsj5_8oo3P"
   },
   "outputs": [],
   "source": [
    "bbc_news_test_labels = [ target_names[i]  for i in bbc_news_test_labels]"
   ]
  },
  {
   "cell_type": "code",
   "execution_count": 16,
   "metadata": {
    "colab": {
     "base_uri": "https://localhost:8080/",
     "height": 164
    },
    "colab_type": "code",
    "id": "gR0c5HUhmql1",
    "outputId": "c43605cd-2d71-4be3-a8a3-1a9f8a076174"
   },
   "outputs": [
    {
     "data": {
      "text/html": [
       "<div>\n",
       "<style scoped>\n",
       "    .dataframe tbody tr th:only-of-type {\n",
       "        vertical-align: middle;\n",
       "    }\n",
       "\n",
       "    .dataframe tbody tr th {\n",
       "        vertical-align: top;\n",
       "    }\n",
       "\n",
       "    .dataframe thead th {\n",
       "        text-align: right;\n",
       "    }\n",
       "</style>\n",
       "<table border=\"1\" class=\"dataframe\">\n",
       "  <thead>\n",
       "    <tr style=\"text-align: right;\">\n",
       "      <th></th>\n",
       "      <th>business</th>\n",
       "      <th>entertainment</th>\n",
       "      <th>politics</th>\n",
       "      <th>sport</th>\n",
       "      <th>tech</th>\n",
       "      <th>accuracy</th>\n",
       "      <th>macro avg</th>\n",
       "      <th>weighted avg</th>\n",
       "    </tr>\n",
       "  </thead>\n",
       "  <tbody>\n",
       "    <tr>\n",
       "      <th>precision</th>\n",
       "      <td>0.973856</td>\n",
       "      <td>0.974359</td>\n",
       "      <td>0.967480</td>\n",
       "      <td>1.0</td>\n",
       "      <td>0.975207</td>\n",
       "      <td>0.979042</td>\n",
       "      <td>0.978180</td>\n",
       "      <td>0.979020</td>\n",
       "    </tr>\n",
       "    <tr>\n",
       "      <th>recall</th>\n",
       "      <td>0.973856</td>\n",
       "      <td>0.982759</td>\n",
       "      <td>0.952000</td>\n",
       "      <td>1.0</td>\n",
       "      <td>0.983333</td>\n",
       "      <td>0.979042</td>\n",
       "      <td>0.978390</td>\n",
       "      <td>0.979042</td>\n",
       "    </tr>\n",
       "    <tr>\n",
       "      <th>f1-score</th>\n",
       "      <td>0.973856</td>\n",
       "      <td>0.978541</td>\n",
       "      <td>0.959677</td>\n",
       "      <td>1.0</td>\n",
       "      <td>0.979253</td>\n",
       "      <td>0.979042</td>\n",
       "      <td>0.978266</td>\n",
       "      <td>0.979013</td>\n",
       "    </tr>\n",
       "    <tr>\n",
       "      <th>support</th>\n",
       "      <td>153.000000</td>\n",
       "      <td>116.000000</td>\n",
       "      <td>125.000000</td>\n",
       "      <td>154.0</td>\n",
       "      <td>120.000000</td>\n",
       "      <td>0.979042</td>\n",
       "      <td>668.000000</td>\n",
       "      <td>668.000000</td>\n",
       "    </tr>\n",
       "  </tbody>\n",
       "</table>\n",
       "</div>"
      ],
      "text/plain": [
       "             business  entertainment  ...   macro avg  weighted avg\n",
       "precision    0.973856       0.974359  ...    0.978180      0.979020\n",
       "recall       0.973856       0.982759  ...    0.978390      0.979042\n",
       "f1-score     0.973856       0.978541  ...    0.978266      0.979013\n",
       "support    153.000000     116.000000  ...  668.000000    668.000000\n",
       "\n",
       "[4 rows x 8 columns]"
      ]
     },
     "execution_count": 16,
     "metadata": {
      "tags": []
     },
     "output_type": "execute_result"
    }
   ],
   "source": [
    "from sklearn.metrics import  classification_report\n",
    "\n",
    "bbc_news_pred_labels = gridSearch.best_estimator_.predict(bbc_news_test_vectors)\n",
    "bbc_news_pred_labels = [ target_names[i]  for i in bbc_news_pred_labels]\n",
    "\n",
    "class_report = classification_report(bbc_news_test_labels, bbc_news_pred_labels, target_names=target_names, output_dict=True)\n",
    "report = pd.DataFrame(data = class_report)\n",
    "report"
   ]
  },
  {
   "cell_type": "code",
   "execution_count": 17,
   "metadata": {
    "colab": {
     "base_uri": "https://localhost:8080/",
     "height": 35
    },
    "colab_type": "code",
    "id": "QPbGxgeRnayJ",
    "outputId": "9ef371dd-4d9a-48e7-8c87-25cc9c2f263e"
   },
   "outputs": [
    {
     "data": {
      "text/plain": [
       "0.9790419161676647"
      ]
     },
     "execution_count": 17,
     "metadata": {
      "tags": []
     },
     "output_type": "execute_result"
    }
   ],
   "source": [
    "from sklearn.metrics import precision_score\n",
    "\n",
    "precision_score(bbc_news_test_labels, bbc_news_pred_labels, average='micro')"
   ]
  },
  {
   "cell_type": "code",
   "execution_count": 18,
   "metadata": {
    "colab": {
     "base_uri": "https://localhost:8080/",
     "height": 35
    },
    "colab_type": "code",
    "id": "_aa1oqQNnayY",
    "outputId": "ef94e552-12bf-47a0-cce0-f06cb3a5cc15"
   },
   "outputs": [
    {
     "data": {
      "text/plain": [
       "0.9781802939752595"
      ]
     },
     "execution_count": 18,
     "metadata": {
      "tags": []
     },
     "output_type": "execute_result"
    }
   ],
   "source": [
    "precision_score(bbc_news_test_labels, bbc_news_pred_labels, average='macro')"
   ]
  },
  {
   "cell_type": "markdown",
   "metadata": {
    "colab_type": "text",
    "id": "2vioFfRTF7qt"
   },
   "source": [
    "#**WORD2VEC**"
   ]
  },
  {
   "cell_type": "code",
   "execution_count": 4,
   "metadata": {
    "colab": {
     "base_uri": "https://localhost:8080/",
     "height": 90
    },
    "colab_type": "code",
    "id": "csj_JUQ3F-2-",
    "outputId": "7f9e263f-a0f8-4c54-9fc1-8e1fd81dc07a"
   },
   "outputs": [
    {
     "name": "stdout",
     "output_type": "stream",
     "text": [
      "[=================================================-] 99.8% 1659.9/1662.8MB downloaded\n"
     ]
    },
    {
     "name": "stderr",
     "output_type": "stream",
     "text": [
      "/usr/local/lib/python3.6/dist-packages/smart_open/smart_open_lib.py:253: UserWarning: This function is deprecated, use smart_open.open instead. See the migration notes for details: https://github.com/RaRe-Technologies/smart_open/blob/master/README.rst#migrating-to-the-new-open-function\n",
      "  'See the migration notes for details: %s' % _MIGRATION_NOTES_URL\n"
     ]
    }
   ],
   "source": [
    "import gensim.downloader as api\n",
    "skipGramModel = api.load('word2vec-google-news-300')"
   ]
  },
  {
   "cell_type": "code",
   "execution_count": 5,
   "metadata": {
    "colab": {
     "base_uri": "https://localhost:8080/",
     "height": 70
    },
    "colab_type": "code",
    "id": "5x3iarVxGI3v",
    "outputId": "87ef879e-c26f-4d10-c119-b71efa47b574"
   },
   "outputs": [
    {
     "name": "stderr",
     "output_type": "stream",
     "text": [
      "/usr/local/lib/python3.6/dist-packages/ipykernel_launcher.py:11: DeprecationWarning: Call to deprecated `wv` (Attribute will be removed in 4.0.0, use self instead).\n",
      "  # This is added back by InteractiveShellApp.init_path()\n",
      "/usr/local/lib/python3.6/dist-packages/ipykernel_launcher.py:24: DeprecationWarning: Call to deprecated `wv` (Attribute will be removed in 4.0.0, use self instead).\n"
     ]
    }
   ],
   "source": [
    "from gensim.utils import simple_preprocess\n",
    "import numpy as np\n",
    "\n",
    "bbc_news_train_vectors = [] \n",
    "for text in bbc_news_train:\n",
    "  words = simple_preprocess(text)\n",
    "  vector = np.zeros((300,))\n",
    "  count = 0\n",
    "  for word in words:\n",
    "    try:\n",
    "      vector+=skipGramModel.wv.get_vector(word)\n",
    "      count+=1\n",
    "    except:\n",
    "      pass\n",
    "  bbc_news_train_vectors.append(vector/count)\n",
    "\n",
    "bbc_news_test_vectors = [] \n",
    "for text in bbc_news_test:\n",
    "  words = simple_preprocess(text)\n",
    "  vector = np.zeros((300,))\n",
    "  count = 0\n",
    "  for word in words:\n",
    "    try:\n",
    "      vector+=skipGramModel.wv.get_vector(word)\n",
    "      count+=1\n",
    "    except:\n",
    "      pass\n",
    "  bbc_news_test_vectors.append(vector/count)"
   ]
  },
  {
   "cell_type": "code",
   "execution_count": 6,
   "metadata": {
    "colab": {
     "base_uri": "https://localhost:8080/",
     "height": 487
    },
    "colab_type": "code",
    "id": "qdE3gXlUVEM_",
    "outputId": "266b9ae5-7769-4361-a301-28c9ffc35f06"
   },
   "outputs": [
    {
     "data": {
      "text/html": [
       "<div>\n",
       "<style scoped>\n",
       "    .dataframe tbody tr th:only-of-type {\n",
       "        vertical-align: middle;\n",
       "    }\n",
       "\n",
       "    .dataframe tbody tr th {\n",
       "        vertical-align: top;\n",
       "    }\n",
       "\n",
       "    .dataframe thead th {\n",
       "        text-align: right;\n",
       "    }\n",
       "</style>\n",
       "<table border=\"1\" class=\"dataframe\">\n",
       "  <thead>\n",
       "    <tr style=\"text-align: right;\">\n",
       "      <th></th>\n",
       "      <th>param_C</th>\n",
       "      <th>mean_test_score</th>\n",
       "      <th>mean_train_score</th>\n",
       "    </tr>\n",
       "  </thead>\n",
       "  <tbody>\n",
       "    <tr>\n",
       "      <th>0</th>\n",
       "      <td>1e-12</td>\n",
       "      <td>0.273662</td>\n",
       "      <td>0.274552</td>\n",
       "    </tr>\n",
       "    <tr>\n",
       "      <th>1</th>\n",
       "      <td>1e-10</td>\n",
       "      <td>0.273662</td>\n",
       "      <td>0.274552</td>\n",
       "    </tr>\n",
       "    <tr>\n",
       "      <th>2</th>\n",
       "      <td>1e-06</td>\n",
       "      <td>0.273662</td>\n",
       "      <td>0.274552</td>\n",
       "    </tr>\n",
       "    <tr>\n",
       "      <th>3</th>\n",
       "      <td>1e-05</td>\n",
       "      <td>0.273662</td>\n",
       "      <td>0.274552</td>\n",
       "    </tr>\n",
       "    <tr>\n",
       "      <th>4</th>\n",
       "      <td>0.0001</td>\n",
       "      <td>0.273662</td>\n",
       "      <td>0.274552</td>\n",
       "    </tr>\n",
       "    <tr>\n",
       "      <th>5</th>\n",
       "      <td>0.001</td>\n",
       "      <td>0.273662</td>\n",
       "      <td>0.274552</td>\n",
       "    </tr>\n",
       "    <tr>\n",
       "      <th>6</th>\n",
       "      <td>0.01</td>\n",
       "      <td>0.273662</td>\n",
       "      <td>0.274552</td>\n",
       "    </tr>\n",
       "    <tr>\n",
       "      <th>7</th>\n",
       "      <td>0.1</td>\n",
       "      <td>0.911363</td>\n",
       "      <td>0.913937</td>\n",
       "    </tr>\n",
       "    <tr>\n",
       "      <th>8</th>\n",
       "      <td>1</td>\n",
       "      <td>0.951185</td>\n",
       "      <td>0.963392</td>\n",
       "    </tr>\n",
       "    <tr>\n",
       "      <th>9</th>\n",
       "      <td>10</td>\n",
       "      <td>0.965327</td>\n",
       "      <td>0.991169</td>\n",
       "    </tr>\n",
       "    <tr>\n",
       "      <th>10</th>\n",
       "      <td>100</td>\n",
       "      <td>0.964037</td>\n",
       "      <td>1.000000</td>\n",
       "    </tr>\n",
       "    <tr>\n",
       "      <th>11</th>\n",
       "      <td>1000</td>\n",
       "      <td>0.962752</td>\n",
       "      <td>1.000000</td>\n",
       "    </tr>\n",
       "    <tr>\n",
       "      <th>12</th>\n",
       "      <td>10000</td>\n",
       "      <td>0.962752</td>\n",
       "      <td>1.000000</td>\n",
       "    </tr>\n",
       "    <tr>\n",
       "      <th>13</th>\n",
       "      <td>10000000000</td>\n",
       "      <td>0.962752</td>\n",
       "      <td>1.000000</td>\n",
       "    </tr>\n",
       "    <tr>\n",
       "      <th>14</th>\n",
       "      <td>1000000000000</td>\n",
       "      <td>0.962752</td>\n",
       "      <td>1.000000</td>\n",
       "    </tr>\n",
       "  </tbody>\n",
       "</table>\n",
       "</div>"
      ],
      "text/plain": [
       "          param_C  mean_test_score  mean_train_score\n",
       "0           1e-12         0.273662          0.274552\n",
       "1           1e-10         0.273662          0.274552\n",
       "2           1e-06         0.273662          0.274552\n",
       "3           1e-05         0.273662          0.274552\n",
       "4          0.0001         0.273662          0.274552\n",
       "5           0.001         0.273662          0.274552\n",
       "6            0.01         0.273662          0.274552\n",
       "7             0.1         0.911363          0.913937\n",
       "8               1         0.951185          0.963392\n",
       "9              10         0.965327          0.991169\n",
       "10            100         0.964037          1.000000\n",
       "11           1000         0.962752          1.000000\n",
       "12          10000         0.962752          1.000000\n",
       "13    10000000000         0.962752          1.000000\n",
       "14  1000000000000         0.962752          1.000000"
      ]
     },
     "execution_count": 6,
     "metadata": {
      "tags": []
     },
     "output_type": "execute_result"
    }
   ],
   "source": [
    "from sklearn.model_selection import GridSearchCV \n",
    "from sklearn.svm import SVC\n",
    "from sklearn.metrics import f1_score\n",
    "import pandas as pd\n",
    "\n",
    "svm = SVC(kernel = 'linear',random_state = 0)\n",
    "param_grid = {'C':[10**-12,10**-10,10**-6,10**(-5),10**(-4),10**(-3),10**(-2),10**(-1),1,10,100,1000,10000,10**10,10**12]}\n",
    "gridSearch = GridSearchCV(svm, param_grid,scoring = 'f1_micro',cv = 5)\n",
    "gridSearch.return_train_score = True\n",
    "gridSearch.fit(bbc_news_train_vectors,bbc_news_train_labels)\n",
    "\n",
    "dataframe = pd.DataFrame(gridSearch.cv_results_)\n",
    "dataframe[['param_C','mean_test_score','mean_train_score']]"
   ]
  },
  {
   "cell_type": "code",
   "execution_count": 0,
   "metadata": {
    "colab": {},
    "colab_type": "code",
    "id": "ZniNMv1Qf8GQ"
   },
   "outputs": [],
   "source": [
    "bbc_news_test_labels = [ target_names[i]  for i in bbc_news_test_labels]"
   ]
  },
  {
   "cell_type": "code",
   "execution_count": 8,
   "metadata": {
    "colab": {
     "base_uri": "https://localhost:8080/",
     "height": 164
    },
    "colab_type": "code",
    "id": "ZNo3eJTTUJhe",
    "outputId": "567c58bd-ec68-411b-92dd-20964b8ba6a2"
   },
   "outputs": [
    {
     "data": {
      "text/html": [
       "<div>\n",
       "<style scoped>\n",
       "    .dataframe tbody tr th:only-of-type {\n",
       "        vertical-align: middle;\n",
       "    }\n",
       "\n",
       "    .dataframe tbody tr th {\n",
       "        vertical-align: top;\n",
       "    }\n",
       "\n",
       "    .dataframe thead th {\n",
       "        text-align: right;\n",
       "    }\n",
       "</style>\n",
       "<table border=\"1\" class=\"dataframe\">\n",
       "  <thead>\n",
       "    <tr style=\"text-align: right;\">\n",
       "      <th></th>\n",
       "      <th>business</th>\n",
       "      <th>entertainment</th>\n",
       "      <th>politics</th>\n",
       "      <th>sport</th>\n",
       "      <th>tech</th>\n",
       "      <th>accuracy</th>\n",
       "      <th>macro avg</th>\n",
       "      <th>weighted avg</th>\n",
       "    </tr>\n",
       "  </thead>\n",
       "  <tbody>\n",
       "    <tr>\n",
       "      <th>precision</th>\n",
       "      <td>0.979730</td>\n",
       "      <td>0.982456</td>\n",
       "      <td>0.929688</td>\n",
       "      <td>1.0</td>\n",
       "      <td>0.951613</td>\n",
       "      <td>0.97006</td>\n",
       "      <td>0.968697</td>\n",
       "      <td>0.970461</td>\n",
       "    </tr>\n",
       "    <tr>\n",
       "      <th>recall</th>\n",
       "      <td>0.947712</td>\n",
       "      <td>0.965517</td>\n",
       "      <td>0.952000</td>\n",
       "      <td>1.0</td>\n",
       "      <td>0.983333</td>\n",
       "      <td>0.97006</td>\n",
       "      <td>0.969713</td>\n",
       "      <td>0.970060</td>\n",
       "    </tr>\n",
       "    <tr>\n",
       "      <th>f1-score</th>\n",
       "      <td>0.963455</td>\n",
       "      <td>0.973913</td>\n",
       "      <td>0.940711</td>\n",
       "      <td>1.0</td>\n",
       "      <td>0.967213</td>\n",
       "      <td>0.97006</td>\n",
       "      <td>0.969059</td>\n",
       "      <td>0.970115</td>\n",
       "    </tr>\n",
       "    <tr>\n",
       "      <th>support</th>\n",
       "      <td>153.000000</td>\n",
       "      <td>116.000000</td>\n",
       "      <td>125.000000</td>\n",
       "      <td>154.0</td>\n",
       "      <td>120.000000</td>\n",
       "      <td>0.97006</td>\n",
       "      <td>668.000000</td>\n",
       "      <td>668.000000</td>\n",
       "    </tr>\n",
       "  </tbody>\n",
       "</table>\n",
       "</div>"
      ],
      "text/plain": [
       "             business  entertainment  ...   macro avg  weighted avg\n",
       "precision    0.979730       0.982456  ...    0.968697      0.970461\n",
       "recall       0.947712       0.965517  ...    0.969713      0.970060\n",
       "f1-score     0.963455       0.973913  ...    0.969059      0.970115\n",
       "support    153.000000     116.000000  ...  668.000000    668.000000\n",
       "\n",
       "[4 rows x 8 columns]"
      ]
     },
     "execution_count": 8,
     "metadata": {
      "tags": []
     },
     "output_type": "execute_result"
    }
   ],
   "source": [
    "from sklearn.metrics import  classification_report\n",
    "\n",
    "bbc_news_pred_labels = gridSearch.best_estimator_.predict(bbc_news_test_vectors)\n",
    "bbc_news_pred_labels = [ target_names[i]  for i in bbc_news_pred_labels]\n",
    "class_report = classification_report(bbc_news_test_labels, bbc_news_pred_labels, target_names=target_names, output_dict=True)\n",
    "report = pd.DataFrame(data = class_report)\n",
    "report"
   ]
  },
  {
   "cell_type": "code",
   "execution_count": 10,
   "metadata": {
    "colab": {
     "base_uri": "https://localhost:8080/",
     "height": 35
    },
    "colab_type": "code",
    "id": "XVO_0tZyLGAO",
    "outputId": "5148b71e-86b9-4344-ce5a-50fb84e16017"
   },
   "outputs": [
    {
     "data": {
      "text/plain": [
       "0.9700598802395209"
      ]
     },
     "execution_count": 10,
     "metadata": {
      "tags": []
     },
     "output_type": "execute_result"
    }
   ],
   "source": [
    "from sklearn.metrics import precision_score\n",
    "#Micro F1 Score\n",
    "precision_score(bbc_news_test_labels, bbc_news_pred_labels, average='micro')"
   ]
  },
  {
   "cell_type": "code",
   "execution_count": 11,
   "metadata": {
    "colab": {
     "base_uri": "https://localhost:8080/",
     "height": 35
    },
    "colab_type": "code",
    "id": "LRhdm9Yfm5RE",
    "outputId": "5f18d81c-427b-41e7-e791-65008602403d"
   },
   "outputs": [
    {
     "data": {
      "text/plain": [
       "0.9686972546612826"
      ]
     },
     "execution_count": 11,
     "metadata": {
      "tags": []
     },
     "output_type": "execute_result"
    }
   ],
   "source": [
    "#Macro F1 Score\n",
    "precision_score(bbc_news_test_labels, bbc_news_pred_labels, average='macro')"
   ]
  },
  {
   "cell_type": "code",
   "execution_count": 0,
   "metadata": {
    "colab": {},
    "colab_type": "code",
    "id": "xOEJBzafnMUm"
   },
   "outputs": [],
   "source": []
  }
 ],
 "metadata": {
  "colab": {
   "collapsed_sections": [],
   "machine_shape": "hm",
   "name": "Assignment_9_201911003.ipynb",
   "provenance": []
  },
  "kernelspec": {
   "display_name": "Python 3",
   "language": "python",
   "name": "python3"
  },
  "language_info": {
   "codemirror_mode": {
    "name": "ipython",
    "version": 3
   },
   "file_extension": ".py",
   "mimetype": "text/x-python",
   "name": "python",
   "nbconvert_exporter": "python",
   "pygments_lexer": "ipython3",
   "version": "3.7.3"
  }
 },
 "nbformat": 4,
 "nbformat_minor": 1
}
