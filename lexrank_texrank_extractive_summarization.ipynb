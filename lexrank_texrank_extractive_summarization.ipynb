{
 "cells": [
  {
   "cell_type": "markdown",
   "metadata": {
    "colab_type": "text",
    "id": "mNh3HNBrR9Qh"
   },
   "source": [
    "# **DATA PREPARATION**"
   ]
  },
  {
   "cell_type": "code",
   "execution_count": 0,
   "metadata": {
    "colab": {},
    "colab_type": "code",
    "id": "yya8bsZZTFc9"
   },
   "outputs": [],
   "source": [
    "import os\n",
    "paragraph_path = '/content/drive/My Drive/Information_Retrieval/BBC Business News/News Articles/business'\n",
    "summary_path = '/content/drive/My Drive/Information_Retrieval/BBC Business News/Summaries/business'\n",
    "\n",
    "paragraph_texts_dict = dict()\n",
    "for r, d, f in os.walk(paragraph_path):\n",
    "    for file in f:\n",
    "        if '.txt' in file:\n",
    "            file_id = file.split('.')[0]\n",
    "            file = open(os.path.join(r, file),'r')\n",
    "            paragraph_texts_dict[file_id] = file.read()\n",
    "\n",
    "summaries_dict = dict()\n",
    "for r, d, f in os.walk(summary_path):\n",
    "    for file in f:\n",
    "        if '.txt' in file:\n",
    "            file_id = file.split('.')[0]\n",
    "            file = open(os.path.join(r, file),'r')\n",
    "            summaries_dict[file_id] = file.read()"
   ]
  },
  {
   "cell_type": "code",
   "execution_count": 15,
   "metadata": {
    "colab": {
     "base_uri": "https://localhost:8080/",
     "height": 35
    },
    "colab_type": "code",
    "executionInfo": {
     "elapsed": 2603,
     "status": "ok",
     "timestamp": 1587665299658,
     "user": {
      "displayName": "BHAT SHRIPAD ANANT",
      "photoUrl": "",
      "userId": "09170180846978887660"
     },
     "user_tz": -330
    },
    "id": "34Y8NCpdOZJe",
    "outputId": "cce5e8d8-4286-4ca7-a576-f373b5f4143c"
   },
   "outputs": [
    {
     "data": {
      "text/plain": [
       "(510, 510)"
      ]
     },
     "execution_count": 15,
     "metadata": {
      "tags": []
     },
     "output_type": "execute_result"
    }
   ],
   "source": [
    "len(paragraph_texts_dict),len(summaries_dict)"
   ]
  },
  {
   "cell_type": "code",
   "execution_count": 0,
   "metadata": {
    "colab": {},
    "colab_type": "code",
    "id": "PycaPQmfNR5p"
   },
   "outputs": [],
   "source": [
    "import pickle\n",
    "\n",
    "with open('/content/drive/My Drive/Information_Retrieval/paragraph_texts_dict.pickle','wb') as file:\n",
    "  pickle.dump(paragraph_texts_dict,file)"
   ]
  },
  {
   "cell_type": "code",
   "execution_count": 0,
   "metadata": {
    "colab": {},
    "colab_type": "code",
    "id": "Q1rd1zl6OK_E"
   },
   "outputs": [],
   "source": [
    "import pickle\n",
    "\n",
    "with open('/content/drive/My Drive/Information_Retrieval/summaries_dict.pickle','wb') as file:\n",
    "  pickle.dump(summaries_dict,file)"
   ]
  },
  {
   "cell_type": "code",
   "execution_count": 0,
   "metadata": {
    "colab": {},
    "colab_type": "code",
    "id": "l0DWHaPL4mA3"
   },
   "outputs": [],
   "source": [
    "import pickle\n",
    "\n",
    "with open('/content/drive/My Drive/Information_Retrieval/summaries_dict.pickle','rb') as file:\n",
    "  summaries_dict = pickle.load(file)\n",
    "\n",
    "with open('/content/drive/My Drive/Information_Retrieval/paragraph_texts_dict.pickle','rb') as file:\n",
    "  paragraph_texts_dict = pickle.load(file)"
   ]
  },
  {
   "cell_type": "code",
   "execution_count": 4,
   "metadata": {
    "colab": {
     "base_uri": "https://localhost:8080/",
     "height": 72
    },
    "colab_type": "code",
    "executionInfo": {
     "elapsed": 2276,
     "status": "ok",
     "timestamp": 1587720046084,
     "user": {
      "displayName": "BHAT SHRIPAD ANANT",
      "photoUrl": "",
      "userId": "09170180846978887660"
     },
     "user_tz": -330
    },
    "id": "frmk25_TOxAB",
    "outputId": "3e252163-33d4-4963-9d88-228f96d401cb"
   },
   "outputs": [
    {
     "data": {
      "text/plain": [
       "('Australia rates at four year high\\n\\nAustralia is raising its benchmark interest rate to its highest level in four years despite signs of a slowdown in the country\\'s economy.\\n\\nThe Reserve Bank of Australia lifted interest rates 0.25% to 5.5%, their first upwards move in more than a year. However, shortly after the Bank made its decision, new figures showed a fall in economic growth in the last quarter. The Bank said it had acted to curb inflation but the move was criticised by some analysts.\\n\\nThe rate hike was the first since December 2003 and had been well-flagged in advance. However, opposition parties and some analysts said the move was ill-timed given data showing the Australian economy grew just 0.1% between October and December and 1.5% on an annual basis.\\n\\nThe figures, representing a decline from the 0.2% growth in GDP seen between July and September, were below market expectations. Consumer spending remains strong, however, and the Bank is concerned about growing inflationary pressures. \"Over recent months it has become increasingly clear that remaining spare capacity in the labour and goods markets is becoming rather limited,\" said Ian Macfarlane, Governor of the Reserve Bank.\\n\\nAt 2.6%, inflation remains within the Bank\\'s 2-3% target range. However, exports declined in the second half of 2004, fuelling a rise in the country\\'s current account deficit - the difference in the value of imports compared to exports - to a record Australian dollar 29.4bn. The Australian government said the economy remained strong with unemployment at a near 30 year low. \"The economy has been strong and it is properly moderating but it doesn\\'t look to me like it\\'s slowing in any unreasonable way,\" said Treasurer Peter Costello. Stock markets had factored in the likelihood of a rate rise but analysts still expressed concern about the strength of the economy. \"That 1.5% annual growth rate is the lowest we have seen since the post-election slump we saw back in 2000-1,\" said Michael Blythe, chief economist at the Commonwealth Bank of Australia. \"This suggests the economy really did slow very sharply in the second half of 2004.\"\\n',\n",
       " 'The Reserve Bank of Australia lifted interest rates 0.25% to 5.5%, their first upwards move in more than a year.However, opposition parties and some analysts said the move was ill-timed given data showing the Australian economy grew just 0.1% between October and December and 1.5% on an annual basis.\"That 1.5% annual growth rate is the lowest we have seen since the post-election slump we saw back in 2000-1,\" said Michael Blythe, chief economist at the Commonwealth Bank of Australia.The Bank said it had acted to curb inflation but the move was criticised by some analysts.The Australian government said the economy remained strong with unemployment at a near 30 year low.Australia is raising its benchmark interest rate to its highest level in four years despite signs of a slowdown in the country\\'s economy.Stock markets had factored in the likelihood of a rate rise but analysts still expressed concern about the strength of the economy.')"
      ]
     },
     "execution_count": 4,
     "metadata": {
      "tags": []
     },
     "output_type": "execute_result"
    }
   ],
   "source": [
    "paragraph_texts_dict['101'],summaries_dict['101']"
   ]
  },
  {
   "cell_type": "code",
   "execution_count": 6,
   "metadata": {
    "colab": {
     "base_uri": "https://localhost:8080/",
     "height": 497
    },
    "colab_type": "code",
    "executionInfo": {
     "elapsed": 40203,
     "status": "ok",
     "timestamp": 1587720105019,
     "user": {
      "displayName": "BHAT SHRIPAD ANANT",
      "photoUrl": "",
      "userId": "09170180846978887660"
     },
     "user_tz": -330
    },
    "id": "qp10vKIHLwzH",
    "outputId": "a8f876cd-72ee-4810-ed2b-06d011ef4a49"
   },
   "outputs": [
    {
     "name": "stdout",
     "output_type": "stream",
     "text": [
      "Collecting sumy\n",
      "\u001b[?25l  Downloading https://files.pythonhosted.org/packages/61/20/8abf92617ec80a2ebaec8dc1646a790fc9656a4a4377ddb9f0cc90bc9326/sumy-0.8.1-py2.py3-none-any.whl (83kB)\n",
      "\r",
      "\u001b[K     |████                            | 10kB 21.2MB/s eta 0:00:01\r",
      "\u001b[K     |███████▉                        | 20kB 2.2MB/s eta 0:00:01\r",
      "\u001b[K     |███████████▊                    | 30kB 3.2MB/s eta 0:00:01\r",
      "\u001b[K     |███████████████▋                | 40kB 2.1MB/s eta 0:00:01\r",
      "\u001b[K     |███████████████████▌            | 51kB 2.6MB/s eta 0:00:01\r",
      "\u001b[K     |███████████████████████▍        | 61kB 3.1MB/s eta 0:00:01\r",
      "\u001b[K     |███████████████████████████▍    | 71kB 3.6MB/s eta 0:00:01\r",
      "\u001b[K     |███████████████████████████████▎| 81kB 4.0MB/s eta 0:00:01\r",
      "\u001b[K     |████████████████████████████████| 92kB 3.4MB/s \n",
      "\u001b[?25hRequirement already satisfied: nltk>=3.0.2 in /usr/local/lib/python3.6/dist-packages (from sumy) (3.2.5)\n",
      "Collecting breadability>=0.1.20\n",
      "  Downloading https://files.pythonhosted.org/packages/ad/2d/bb6c9b381e6b6a432aa2ffa8f4afdb2204f1ff97cfcc0766a5b7683fec43/breadability-0.1.20.tar.gz\n",
      "Collecting pycountry>=18.2.23\n",
      "\u001b[?25l  Downloading https://files.pythonhosted.org/packages/16/b6/154fe93072051d8ce7bf197690957b6d0ac9a21d51c9a1d05bd7c6fdb16f/pycountry-19.8.18.tar.gz (10.0MB)\n",
      "\u001b[K     |████████████████████████████████| 10.0MB 60kB/s \n",
      "\u001b[?25hRequirement already satisfied: docopt<0.7,>=0.6.1 in /usr/local/lib/python3.6/dist-packages (from sumy) (0.6.2)\n",
      "Requirement already satisfied: requests>=2.7.0 in /usr/local/lib/python3.6/dist-packages (from sumy) (2.21.0)\n",
      "Requirement already satisfied: six in /usr/local/lib/python3.6/dist-packages (from nltk>=3.0.2->sumy) (1.12.0)\n",
      "Requirement already satisfied: chardet in /usr/local/lib/python3.6/dist-packages (from breadability>=0.1.20->sumy) (3.0.4)\n",
      "Requirement already satisfied: lxml>=2.0 in /usr/local/lib/python3.6/dist-packages (from breadability>=0.1.20->sumy) (4.2.6)\n",
      "Requirement already satisfied: certifi>=2017.4.17 in /usr/local/lib/python3.6/dist-packages (from requests>=2.7.0->sumy) (2020.4.5.1)\n",
      "Requirement already satisfied: urllib3<1.25,>=1.21.1 in /usr/local/lib/python3.6/dist-packages (from requests>=2.7.0->sumy) (1.24.3)\n",
      "Requirement already satisfied: idna<2.9,>=2.5 in /usr/local/lib/python3.6/dist-packages (from requests>=2.7.0->sumy) (2.8)\n",
      "Building wheels for collected packages: breadability, pycountry\n",
      "  Building wheel for breadability (setup.py) ... \u001b[?25l\u001b[?25hdone\n",
      "  Created wheel for breadability: filename=breadability-0.1.20-py2.py3-none-any.whl size=21684 sha256=831b9b59b0d6296add69a0051de295c17fafda5c9456653304959f337f47619f\n",
      "  Stored in directory: /root/.cache/pip/wheels/5a/4d/a1/510b12c5e65e0b2b3ce539b2af66da0fc57571e528924f4a52\n",
      "  Building wheel for pycountry (setup.py) ... \u001b[?25l\u001b[?25hdone\n",
      "  Created wheel for pycountry: filename=pycountry-19.8.18-py2.py3-none-any.whl size=10627361 sha256=52fd432677c01e86813e138bb279a185524ceaf28469d222902003be293d1e8c\n",
      "  Stored in directory: /root/.cache/pip/wheels/a2/98/bf/f0fa1c6bf8cf2cbdb750d583f84be51c2cd8272460b8b36bd3\n",
      "Successfully built breadability pycountry\n",
      "Installing collected packages: breadability, pycountry, sumy\n",
      "Successfully installed breadability-0.1.20 pycountry-19.8.18 sumy-0.8.1\n"
     ]
    }
   ],
   "source": [
    "pip install sumy"
   ]
  },
  {
   "cell_type": "code",
   "execution_count": 0,
   "metadata": {
    "colab": {},
    "colab_type": "code",
    "id": "RRfms3V4N1tm"
   },
   "outputs": [],
   "source": [
    "import sumy\n",
    "from sumy.evaluation.rouge import rouge_1,rouge_2\n",
    "from sumy.nlp.tokenizers import Tokenizer"
   ]
  },
  {
   "cell_type": "code",
   "execution_count": 10,
   "metadata": {
    "colab": {
     "base_uri": "https://localhost:8080/",
     "height": 266
    },
    "colab_type": "code",
    "executionInfo": {
     "elapsed": 10887,
     "status": "ok",
     "timestamp": 1587720212120,
     "user": {
      "displayName": "BHAT SHRIPAD ANANT",
      "photoUrl": "",
      "userId": "09170180846978887660"
     },
     "user_tz": -330
    },
    "id": "YnazW-CGQaBS",
    "outputId": "457d0ad5-ced2-4cad-8150-22a1165a7abf"
   },
   "outputs": [
    {
     "name": "stdout",
     "output_type": "stream",
     "text": [
      "[nltk_data] Downloading package brown to /root/nltk_data...\n",
      "[nltk_data]   Unzipping corpora/brown.zip.\n",
      "[nltk_data] Downloading package punkt to /root/nltk_data...\n",
      "[nltk_data]   Unzipping tokenizers/punkt.zip.\n",
      "[nltk_data] Downloading package wordnet to /root/nltk_data...\n",
      "[nltk_data]   Unzipping corpora/wordnet.zip.\n",
      "[nltk_data] Downloading package averaged_perceptron_tagger to\n",
      "[nltk_data]     /root/nltk_data...\n",
      "[nltk_data]   Unzipping taggers/averaged_perceptron_tagger.zip.\n",
      "[nltk_data] Downloading package conll2000 to /root/nltk_data...\n",
      "[nltk_data]   Unzipping corpora/conll2000.zip.\n",
      "[nltk_data] Downloading package movie_reviews to /root/nltk_data...\n",
      "[nltk_data]   Unzipping corpora/movie_reviews.zip.\n",
      "Finished.\n"
     ]
    }
   ],
   "source": [
    "from textblob import TextBlob\n",
    "!python -m textblob.download_corpora"
   ]
  },
  {
   "cell_type": "markdown",
   "metadata": {
    "colab_type": "text",
    "id": "tYI-fxuHPcMc"
   },
   "source": [
    "# **TexRank**"
   ]
  },
  {
   "cell_type": "code",
   "execution_count": 21,
   "metadata": {
    "colab": {
     "base_uri": "https://localhost:8080/",
     "height": 72
    },
    "colab_type": "code",
    "executionInfo": {
     "elapsed": 59295,
     "status": "ok",
     "timestamp": 1587727944331,
     "user": {
      "displayName": "BHAT SHRIPAD ANANT",
      "photoUrl": "",
      "userId": "09170180846978887660"
     },
     "user_tz": -330
    },
    "id": "B-SSqoT6FQMZ",
    "outputId": "9c0d98d6-f6fd-4793-b13b-bbce25a17d2a"
   },
   "outputs": [
    {
     "name": "stderr",
     "output_type": "stream",
     "text": [
      "/usr/local/lib/python3.6/dist-packages/smart_open/smart_open_lib.py:253: UserWarning: This function is deprecated, use smart_open.open instead. See the migration notes for details: https://github.com/RaRe-Technologies/smart_open/blob/master/README.rst#migrating-to-the-new-open-function\n",
      "  'See the migration notes for details: %s' % _MIGRATION_NOTES_URL\n"
     ]
    }
   ],
   "source": [
    "import gensim\n",
    "saved_model = gensim.models.keyedvectors.WordEmbeddingsKeyedVectors.load('/content/drive/My Drive/Information_Retrieval/word2vec-google-news-300')"
   ]
  },
  {
   "cell_type": "code",
   "execution_count": 0,
   "metadata": {
    "colab": {},
    "colab_type": "code",
    "id": "0HCVxhAo_hli"
   },
   "outputs": [],
   "source": [
    "from gensim import utils\n",
    "import numpy as np\n",
    "\n",
    "#Get vector representation for each of the sentences\n",
    "def getWord2VecVector(sentence_list):\n",
    "    sentence_vectors = []\n",
    "    for sen in sentence_list:\n",
    "        words = utils.simple_preprocess(sen)\n",
    "        vector = np.zeros((1,300))\n",
    "        for word in words:\n",
    "            try:\n",
    "                vector+=saved_model.get_vector(word)\n",
    "            except:\n",
    "              pass\n",
    "        sentence_vectors.append(vector)\n",
    "    return sentence_vectors\n"
   ]
  },
  {
   "cell_type": "code",
   "execution_count": 0,
   "metadata": {
    "colab": {},
    "colab_type": "code",
    "id": "VqcoXnL7PgeG"
   },
   "outputs": [],
   "source": [
    "import numpy as np\n",
    "from sklearn.metrics.pairwise import cosine_similarity\n",
    "import networkx as nx\n",
    "\n",
    "LANGUAGE = \"english\"\n",
    "\n",
    "def performTexRank(sen_count):\n",
    "    sum_r1 = 0\n",
    "    sum_r2 = 0\n",
    "    count = 0\n",
    "    for file_id,paragraph in paragraph_texts_dict.items():\n",
    "          sentence_list = [item.raw for item in TextBlob(paragraph).sentences]\n",
    "\n",
    "          #Matrix to hold similarity values between sentences\n",
    "          adjacency_matrix = np.zeros((len(sentence_list),len(sentence_list)))\n",
    "\n",
    "          sentence_vectors = getWord2VecVector(sentence_list)\n",
    "\n",
    "          for i in range(len(sentence_list)):\n",
    "            for j in range(len(sentence_list)):\n",
    "              if i!=j:\n",
    "                if adjacency_matrix[j][i] > 0:\n",
    "                  adjacency_matrix[i][j] = adjacency_matrix[j][i]\n",
    "                else:\n",
    "                  adjacency_matrix[i][j] = cosine_similarity(sentence_vectors[i].reshape(1,-1),sentence_vectors[j].reshape(1,-1))[0][0]\n",
    "          \n",
    "          #perform pagerank algo on the similarity matrix\n",
    "          nx_graph = nx.from_numpy_array(adjacency_matrix)\n",
    "          scores = nx.pagerank(nx_graph)\n",
    "\n",
    "          #choose top sentences as summary\n",
    "          ranked_sentences = sorted(((scores[i],sumy.models.dom.Sentence(s,Tokenizer(LANGUAGE))) for i,s in enumerate(sentence_list)), reverse=True)\n",
    "          top_sentences = [ ranked_sentences[i][1]  for i in range(min(sen_count,len(ranked_sentences))) ]\n",
    "          summary_sentences = [sumy.models.dom.Sentence(item.raw,Tokenizer(LANGUAGE)) for item in TextBlob(summaries_dict[file_id]).sentences]\n",
    "          r1 = rouge_1(top_sentences,summary_sentences)\n",
    "          r2 = rouge_2(top_sentences,summary_sentences)\n",
    "          # print(\"File ID: {} R1: {} R2: {}\".format(file_id,r1,r2))\n",
    "          sum_r1+= r1\n",
    "          sum_r2+= r2\n",
    "          count+=1\n",
    "    return sum_r1/count,sum_r2/count"
   ]
  },
  {
   "cell_type": "code",
   "execution_count": 27,
   "metadata": {
    "colab": {
     "base_uri": "https://localhost:8080/",
     "height": 35
    },
    "colab_type": "code",
    "executionInfo": {
     "elapsed": 21564,
     "status": "ok",
     "timestamp": 1587728597059,
     "user": {
      "displayName": "BHAT SHRIPAD ANANT",
      "photoUrl": "",
      "userId": "09170180846978887660"
     },
     "user_tz": -330
    },
    "id": "uTrR15Np8_Qj",
    "outputId": "96795d46-3147-4b4a-b270-4ffbdeab2b2f"
   },
   "outputs": [
    {
     "name": "stdout",
     "output_type": "stream",
     "text": [
      "ROUGUE 1 SCORE: 0.9086004306758974 ROGUE 2 SCORE: 0.8368608878227614 \n"
     ]
    }
   ],
   "source": [
    "avg_r1,avg_r2 = performTexRank(10)\n",
    "print(\"ROUGUE 1 SCORE: {} ROGUE 2 SCORE: {} \".format(avg_r1,avg_r2))"
   ]
  },
  {
   "cell_type": "code",
   "execution_count": 28,
   "metadata": {
    "colab": {
     "base_uri": "https://localhost:8080/",
     "height": 35
    },
    "colab_type": "code",
    "executionInfo": {
     "elapsed": 21661,
     "status": "ok",
     "timestamp": 1587728624462,
     "user": {
      "displayName": "BHAT SHRIPAD ANANT",
      "photoUrl": "",
      "userId": "09170180846978887660"
     },
     "user_tz": -330
    },
    "id": "-NJzNohv_usB",
    "outputId": "a2848c89-d776-4e54-b920-0564944716a9"
   },
   "outputs": [
    {
     "name": "stdout",
     "output_type": "stream",
     "text": [
      "ROUGUE 1 SCORE: 0.9740241512136719 ROGUE 2 SCORE: 0.9227259447807842 \n"
     ]
    }
   ],
   "source": [
    "avg_r1,avg_r2 = performTexRank(15)\n",
    "print(\"ROUGUE 1 SCORE: {} ROGUE 2 SCORE: {} \".format(avg_r1,avg_r2))"
   ]
  },
  {
   "cell_type": "code",
   "execution_count": 29,
   "metadata": {
    "colab": {
     "base_uri": "https://localhost:8080/",
     "height": 35
    },
    "colab_type": "code",
    "executionInfo": {
     "elapsed": 22147,
     "status": "ok",
     "timestamp": 1587728656422,
     "user": {
      "displayName": "BHAT SHRIPAD ANANT",
      "photoUrl": "",
      "userId": "09170180846978887660"
     },
     "user_tz": -330
    },
    "id": "_ndus_zwAAGD",
    "outputId": "f6ac9530-0a67-4b5b-d305-6a0855757985"
   },
   "outputs": [
    {
     "name": "stdout",
     "output_type": "stream",
     "text": [
      "ROUGUE 1 SCORE: 0.9908023495796223 ROGUE 2 SCORE: 0.9458851520747782 \n"
     ]
    }
   ],
   "source": [
    "avg_r1,avg_r2 = performTexRank(20)\n",
    "print(\"ROUGUE 1 SCORE: {} ROGUE 2 SCORE: {} \".format(avg_r1,avg_r2))"
   ]
  },
  {
   "cell_type": "code",
   "execution_count": 30,
   "metadata": {
    "colab": {
     "base_uri": "https://localhost:8080/",
     "height": 35
    },
    "colab_type": "code",
    "executionInfo": {
     "elapsed": 21953,
     "status": "ok",
     "timestamp": 1587728678406,
     "user": {
      "displayName": "BHAT SHRIPAD ANANT",
      "photoUrl": "",
      "userId": "09170180846978887660"
     },
     "user_tz": -330
    },
    "id": "EUYfS7IZAD2M",
    "outputId": "28b5380a-4059-451c-9bbf-e133141ecb30"
   },
   "outputs": [
    {
     "name": "stdout",
     "output_type": "stream",
     "text": [
      "ROUGUE 1 SCORE: 0.9967045623704421 ROGUE 2 SCORE: 0.9538487267640796 \n"
     ]
    }
   ],
   "source": [
    "avg_r1,avg_r2 = performTexRank(25)\n",
    "print(\"ROUGUE 1 SCORE: {} ROGUE 2 SCORE: {} \".format(avg_r1,avg_r2))"
   ]
  },
  {
   "cell_type": "markdown",
   "metadata": {
    "colab_type": "text",
    "id": "kQGSSIKVPhmT"
   },
   "source": [
    "# **LexRank**"
   ]
  },
  {
   "cell_type": "code",
   "execution_count": 0,
   "metadata": {
    "colab": {},
    "colab_type": "code",
    "id": "c8VuD05sBecU"
   },
   "outputs": [],
   "source": [
    "from sumy.parsers.plaintext import PlaintextParser\n",
    "from sumy.nlp.tokenizers import Tokenizer\n",
    "from sumy.summarizers.lex_rank import LexRankSummarizer  as Summarizer\n",
    "from sumy.nlp.stemmers import Stemmer\n",
    "from sumy.utils import get_stop_words\n",
    "\n",
    "def performLexRank(sen_count):\n",
    "  count = 0\n",
    "  sum_r1 = 0\n",
    "  sum_r2 = 0\n",
    "  for file_id,paragraph in paragraph_texts_dict.items():\n",
    "        parser = PlaintextParser.from_string(paragraph, Tokenizer(LANGUAGE))\n",
    "        stemmer = Stemmer(LANGUAGE)\n",
    "        summarizer = Summarizer(stemmer)\n",
    "        summarizer.stop_words = get_stop_words(LANGUAGE)\n",
    "\n",
    "        top_sentences = []\n",
    "        for sentence in summarizer(parser.document, sen_count):\n",
    "            top_sentences.append(sentence)\n",
    "        summary_sentences = [sumy.models.dom.Sentence(item.raw,Tokenizer(LANGUAGE)) for item in TextBlob(summaries_dict[file_id]).sentences]\n",
    "        r1 = rouge_1(top_sentences,summary_sentences)\n",
    "        r2 = rouge_2(top_sentences,summary_sentences)\n",
    "        #print(\"File ID: {} R1: {} R2: {}\".format(file_id,r1,r2))\n",
    "        sum_r1+= r1\n",
    "        sum_r2+= r2\n",
    "        count+=1\n",
    "  return sum_r1/count,sum_r2/count"
   ]
  },
  {
   "cell_type": "code",
   "execution_count": 42,
   "metadata": {
    "colab": {
     "base_uri": "https://localhost:8080/",
     "height": 35
    },
    "colab_type": "code",
    "executionInfo": {
     "elapsed": 9260,
     "status": "ok",
     "timestamp": 1587730205704,
     "user": {
      "displayName": "BHAT SHRIPAD ANANT",
      "photoUrl": "",
      "userId": "09170180846978887660"
     },
     "user_tz": -330
    },
    "id": "wn5pJWmsFmK6",
    "outputId": "3d5536a0-01de-457d-e6df-295cb1e6334e"
   },
   "outputs": [
    {
     "name": "stdout",
     "output_type": "stream",
     "text": [
      "ROUGUE 1 SCORE: 0.8061285038189773 ROGUE 2 SCORE: 0.7018857387432886 \n"
     ]
    }
   ],
   "source": [
    "avg_r1,avg_r2 = performLexRank(10)\n",
    "print(\"ROUGUE 1 SCORE: {} ROGUE 2 SCORE: {} \".format(avg_r1,avg_r2))"
   ]
  },
  {
   "cell_type": "code",
   "execution_count": 43,
   "metadata": {
    "colab": {
     "base_uri": "https://localhost:8080/",
     "height": 35
    },
    "colab_type": "code",
    "executionInfo": {
     "elapsed": 14368,
     "status": "ok",
     "timestamp": 1587730211459,
     "user": {
      "displayName": "BHAT SHRIPAD ANANT",
      "photoUrl": "",
      "userId": "09170180846978887660"
     },
     "user_tz": -330
    },
    "id": "mxVrPQIEFmLK",
    "outputId": "946ea708-b44c-4be1-b148-63957eebd9da"
   },
   "outputs": [
    {
     "name": "stdout",
     "output_type": "stream",
     "text": [
      "ROUGUE 1 SCORE: 0.9334000426274172 ROGUE 2 SCORE: 0.8671580805844252 \n"
     ]
    }
   ],
   "source": [
    "avg_r1,avg_r2 = performLexRank(15)\n",
    "print(\"ROUGUE 1 SCORE: {} ROGUE 2 SCORE: {} \".format(avg_r1,avg_r2))"
   ]
  },
  {
   "cell_type": "code",
   "execution_count": 44,
   "metadata": {
    "colab": {
     "base_uri": "https://localhost:8080/",
     "height": 35
    },
    "colab_type": "code",
    "executionInfo": {
     "elapsed": 19952,
     "status": "ok",
     "timestamp": 1587730217836,
     "user": {
      "displayName": "BHAT SHRIPAD ANANT",
      "photoUrl": "",
      "userId": "09170180846978887660"
     },
     "user_tz": -330
    },
    "id": "SOIa1hE9FmLT",
    "outputId": "2207ac58-dc1f-4dc4-d6dd-d46be507fc67"
   },
   "outputs": [
    {
     "name": "stdout",
     "output_type": "stream",
     "text": [
      "ROUGUE 1 SCORE: 0.976818623043103 ROGUE 2 SCORE: 0.9264571193849704 \n"
     ]
    }
   ],
   "source": [
    "avg_r1,avg_r2 = performLexRank(20)\n",
    "print(\"ROUGUE 1 SCORE: {} ROGUE 2 SCORE: {} \".format(avg_r1,avg_r2))"
   ]
  },
  {
   "cell_type": "code",
   "execution_count": 45,
   "metadata": {
    "colab": {
     "base_uri": "https://localhost:8080/",
     "height": 35
    },
    "colab_type": "code",
    "executionInfo": {
     "elapsed": 24846,
     "status": "ok",
     "timestamp": 1587730223898,
     "user": {
      "displayName": "BHAT SHRIPAD ANANT",
      "photoUrl": "",
      "userId": "09170180846978887660"
     },
     "user_tz": -330
    },
    "id": "I-J9hJj1FmLg",
    "outputId": "53fa4118-da87-40bf-f3a8-13d9e60910f7"
   },
   "outputs": [
    {
     "name": "stdout",
     "output_type": "stream",
     "text": [
      "ROUGUE 1 SCORE: 0.9920993056726062 ROGUE 2 SCORE: 0.9472817430152631 \n"
     ]
    }
   ],
   "source": [
    "avg_r1,avg_r2 = performLexRank(25)\n",
    "print(\"ROUGUE 1 SCORE: {} ROGUE 2 SCORE: {} \".format(avg_r1,avg_r2))"
   ]
  },
  {
   "cell_type": "markdown",
   "metadata": {
    "colab_type": "text",
    "id": "5ShVVFYVHSNQ"
   },
   "source": [
    "# **SUMMARY**"
   ]
  },
  {
   "cell_type": "code",
   "execution_count": 46,
   "metadata": {
    "colab": {
     "base_uri": "https://localhost:8080/",
     "height": 282
    },
    "colab_type": "code",
    "executionInfo": {
     "elapsed": 19003,
     "status": "ok",
     "timestamp": 1587732501137,
     "user": {
      "displayName": "BHAT SHRIPAD ANANT",
      "photoUrl": "",
      "userId": "09170180846978887660"
     },
     "user_tz": -330
    },
    "id": "Ok78ZkrAHV-l",
    "outputId": "c8ebc7f3-d6fe-4b3d-a85b-112af55fca63"
   },
   "outputs": [
    {
     "data": {
      "text/html": [
       "<div>\n",
       "<style scoped>\n",
       "    .dataframe tbody tr th:only-of-type {\n",
       "        vertical-align: middle;\n",
       "    }\n",
       "\n",
       "    .dataframe tbody tr th {\n",
       "        vertical-align: top;\n",
       "    }\n",
       "\n",
       "    .dataframe thead th {\n",
       "        text-align: right;\n",
       "    }\n",
       "</style>\n",
       "<table border=\"1\" class=\"dataframe\">\n",
       "  <thead>\n",
       "    <tr style=\"text-align: right;\">\n",
       "      <th></th>\n",
       "      <th>METHOD</th>\n",
       "      <th>SENTENCE COUNT</th>\n",
       "      <th>ROUGUE 1</th>\n",
       "      <th>ROUGUE 2</th>\n",
       "    </tr>\n",
       "  </thead>\n",
       "  <tbody>\n",
       "    <tr>\n",
       "      <th>0</th>\n",
       "      <td>TexRank</td>\n",
       "      <td>10</td>\n",
       "      <td>0.9086</td>\n",
       "      <td>0.8368</td>\n",
       "    </tr>\n",
       "    <tr>\n",
       "      <th>1</th>\n",
       "      <td>TexRank</td>\n",
       "      <td>15</td>\n",
       "      <td>0.9740</td>\n",
       "      <td>0.9227</td>\n",
       "    </tr>\n",
       "    <tr>\n",
       "      <th>2</th>\n",
       "      <td>TexRank</td>\n",
       "      <td>20</td>\n",
       "      <td>0.9908</td>\n",
       "      <td>0.9458</td>\n",
       "    </tr>\n",
       "    <tr>\n",
       "      <th>3</th>\n",
       "      <td>TexRank</td>\n",
       "      <td>25</td>\n",
       "      <td>0.9967</td>\n",
       "      <td>0.9538</td>\n",
       "    </tr>\n",
       "    <tr>\n",
       "      <th>4</th>\n",
       "      <td>LexRank</td>\n",
       "      <td>10</td>\n",
       "      <td>0.8061</td>\n",
       "      <td>0.7018</td>\n",
       "    </tr>\n",
       "    <tr>\n",
       "      <th>5</th>\n",
       "      <td>LexRank</td>\n",
       "      <td>15</td>\n",
       "      <td>0.9334</td>\n",
       "      <td>0.8671</td>\n",
       "    </tr>\n",
       "    <tr>\n",
       "      <th>6</th>\n",
       "      <td>LexRank</td>\n",
       "      <td>20</td>\n",
       "      <td>0.9768</td>\n",
       "      <td>0.9264</td>\n",
       "    </tr>\n",
       "    <tr>\n",
       "      <th>7</th>\n",
       "      <td>LexRank</td>\n",
       "      <td>25</td>\n",
       "      <td>0.9920</td>\n",
       "      <td>0.9472</td>\n",
       "    </tr>\n",
       "  </tbody>\n",
       "</table>\n",
       "</div>"
      ],
      "text/plain": [
       "    METHOD  SENTENCE COUNT  ROUGUE 1  ROUGUE 2\n",
       "0  TexRank              10    0.9086    0.8368\n",
       "1  TexRank              15    0.9740    0.9227\n",
       "2  TexRank              20    0.9908    0.9458\n",
       "3  TexRank              25    0.9967    0.9538\n",
       "4  LexRank              10    0.8061    0.7018\n",
       "5  LexRank              15    0.9334    0.8671\n",
       "6  LexRank              20    0.9768    0.9264\n",
       "7  LexRank              25    0.9920    0.9472"
      ]
     },
     "execution_count": 46,
     "metadata": {
      "tags": []
     },
     "output_type": "execute_result"
    }
   ],
   "source": [
    "import pandas as pd\n",
    "data = [['TexRank',10,0.9086,0.8368], ['TexRank',15,0.9740,0.9227], ['TexRank',20,0.9908,0.9458], ['TexRank',25,0.9967,0.9538],\n",
    "        ['LexRank',10,0.8061,0.7018], ['LexRank',15,0.9334,0.8671], ['LexRank',20,0.9768,0.9264], ['LexRank',25,0.9920,0.9472]]\n",
    "\n",
    "pd.DataFrame(data = data,columns = ['METHOD','SENTENCE COUNT','ROUGUE 1','ROUGUE 2'])"
   ]
  }
 ],
 "metadata": {
  "colab": {
   "authorship_tag": "ABX9TyNVQJwmSiWayo76Yth8foV0",
   "collapsed_sections": [
    "mNh3HNBrR9Qh",
    "tYI-fxuHPcMc",
    "kQGSSIKVPhmT",
    "5ShVVFYVHSNQ"
   ],
   "machine_shape": "hm",
   "mount_file_id": "1VtUoks453TD2JeR8emF7dcLHGSMv-mQS",
   "name": "Assignment_8_201911003",
   "provenance": []
  },
  "kernelspec": {
   "display_name": "Python 3",
   "language": "python",
   "name": "python3"
  },
  "language_info": {
   "codemirror_mode": {
    "name": "ipython",
    "version": 3
   },
   "file_extension": ".py",
   "mimetype": "text/x-python",
   "name": "python",
   "nbconvert_exporter": "python",
   "pygments_lexer": "ipython3",
   "version": "3.7.3"
  }
 },
 "nbformat": 4,
 "nbformat_minor": 1
}
