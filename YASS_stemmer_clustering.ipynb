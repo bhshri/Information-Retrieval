{
 "cells": [
  {
   "cell_type": "code",
   "execution_count": 7,
   "metadata": {},
   "outputs": [],
   "source": [
    "from nltk.metrics import edit_distance\n",
    "from sklearn.cluster import AgglomerativeClustering\n",
    "from nltk.stem.porter import *\n",
    "import matplotlib.pyplot as plt\n",
    "import pandas as pd\n",
    "import numpy as np\n",
    "import pickle\n",
    "from os.path import commonprefix\n",
    "\n",
    "def mismatchIndex(x,y):\n",
    "    i = 0\n",
    "    while i < len(x) and i < len(y) and x[i] == y[i]:\n",
    "        i+=1\n",
    "        \n",
    "    return i\n",
    "\n",
    "def distanceD1(x,y):\n",
    "    distance = 0\n",
    "    value = 1\n",
    "    for i in range(max(len(x),len(y))):\n",
    "        if i >= len(x) or i >= len(y) or x[i]!=y[i]:\n",
    "            distance+=(1/value)\n",
    "        value*=2\n",
    "            \n",
    "    return distance\n",
    "            \n",
    "def distanceD2(x,y):\n",
    "    distance = 0\n",
    "    m = mismatchIndex(x,y)\n",
    "    \n",
    "    if m == 0:\n",
    "        return float('inf')\n",
    "    \n",
    "    for i in range(m,max(len(x),len(y))):\n",
    "        distance+=(1/(2**(i-m)))\n",
    "        \n",
    "    return distance/m\n",
    "\n",
    "def distanceD3(x,y):\n",
    "    m = mismatchIndex(x,y)\n",
    "    if m == 0:\n",
    "        return float('inf')\n",
    "    return  ( max(len(x),len(y)) - m  ) * distanceD2(x,y)\n",
    "\n",
    "def distanceD4(x,y):\n",
    "    m = mismatchIndex(x,y)\n",
    "    if m == 0:\n",
    "        return float('inf')\n",
    "    return  (m/(max(len(x),len(y)))) * distanceD3(x,y)\n",
    "    \n",
    " "
   ]
  },
  {
   "cell_type": "code",
   "execution_count": 4,
   "metadata": {},
   "outputs": [
    {
     "data": {
      "text/plain": [
       "(0.248046875, 0.0076904296875)"
      ]
     },
     "execution_count": 4,
     "metadata": {},
     "output_type": "execute_result"
    }
   ],
   "source": [
    "distanceD1('astronomer','astonish'),distanceD1('astronomer','astronomically')"
   ]
  },
  {
   "cell_type": "code",
   "execution_count": 8,
   "metadata": {},
   "outputs": [
    {
     "data": {
      "text/plain": [
       "(0.6614583333333334, 0.24609375)"
      ]
     },
     "execution_count": 8,
     "metadata": {},
     "output_type": "execute_result"
    }
   ],
   "source": [
    "distanceD2('astronomer','astonish'),distanceD2('astronomer','astronomically')"
   ]
  },
  {
   "cell_type": "code",
   "execution_count": 18,
   "metadata": {},
   "outputs": [
    {
     "data": {
      "text/plain": [
       "(4.630208333333334, 1.4765625)"
      ]
     },
     "execution_count": 18,
     "metadata": {},
     "output_type": "execute_result"
    }
   ],
   "source": [
    "distanceD3('astronomer','astonish'),distanceD3('astronomer','astronomically')"
   ]
  },
  {
   "cell_type": "code",
   "execution_count": 20,
   "metadata": {},
   "outputs": [
    {
     "data": {
      "text/plain": [
       "(1.3890625, 0.84375)"
      ]
     },
     "execution_count": 20,
     "metadata": {},
     "output_type": "execute_result"
    }
   ],
   "source": [
    "distanceD4('astronomer','astonish'),distanceD4('astronomer','astronomically')"
   ]
  },
  {
   "cell_type": "code",
   "execution_count": 24,
   "metadata": {},
   "outputs": [
    {
     "data": {
      "text/plain": [
       "(5, 6)"
      ]
     },
     "execution_count": 24,
     "metadata": {},
     "output_type": "execute_result"
    }
   ],
   "source": [
    "edit_distance('astronomer','astonish'),edit_distance('astronomer','astronomically')"
   ]
  },
  {
   "cell_type": "code",
   "execution_count": 11,
   "metadata": {},
   "outputs": [],
   "source": [
    "list_of_words = []\n",
    "with open('stemming-assignment.txt') as f:\n",
    "    list_of_words = f.readlines()\n",
    "word_list = [i[:-1] for i in list_of_words] "
   ]
  },
  {
   "cell_type": "code",
   "execution_count": 3,
   "metadata": {},
   "outputs": [
    {
     "data": {
      "text/plain": [
       "23531"
      ]
     },
     "execution_count": 3,
     "metadata": {},
     "output_type": "execute_result"
    }
   ],
   "source": [
    "len(word_list)"
   ]
  },
  {
   "cell_type": "markdown",
   "metadata": {},
   "source": [
    "# Clustering using D1"
   ]
  },
  {
   "cell_type": "code",
   "execution_count": null,
   "metadata": {},
   "outputs": [],
   "source": [
    "f = open(\"/content/gdrive/My Drive/Information_Retrieval/D1_matrix.csv\",'a')\n",
    "\n",
    "for i in range(len(word_list)):\n",
    "    l = []\n",
    "    for j in range(len(word_list)): \n",
    "        if i!=j:\n",
    "            l.append(str(distanceD1(word_list[i],word_list[j])))\n",
    "        else:\n",
    "            l.append(str(0))\n",
    "    s = \",\".join(l)+\"\\n\"\n",
    "    f.write(s)\n",
    "\n",
    "f.close()"
   ]
  },
  {
   "cell_type": "code",
   "execution_count": null,
   "metadata": {},
   "outputs": [],
   "source": [
    "data_ = pd.read_csv('/content/gdrive/My Drive/Information_Retrieval/D1_matrix.csv',header = None)"
   ]
  },
  {
   "cell_type": "code",
   "execution_count": null,
   "metadata": {},
   "outputs": [],
   "source": [
    "D1_matrix = data_.apply(pd.to_numeric)"
   ]
  },
  {
   "cell_type": "code",
   "execution_count": 3,
   "metadata": {},
   "outputs": [],
   "source": [
    "threshold_values = np.arange(0,0.46,0.01)"
   ]
  },
  {
   "cell_type": "code",
   "execution_count": null,
   "metadata": {},
   "outputs": [],
   "source": [
    "\n",
    "threshold_map = dict()\n",
    "for threshold in threshold_values:\n",
    "  agg_clustering = AgglomerativeClustering(n_clusters = None,linkage='complete',affinity='precomputed',distance_threshold = threshold)\n",
    "  agg_clustering.fit(D1_matrix)\n",
    "  number_of_clusters = agg_clustering.n_clusters_\n",
    "  cluster_labels = agg_clustering.labels_\n",
    "  threshold_map[threshold] = [number_of_clusters,cluster_labels]"
   ]
  },
  {
   "cell_type": "code",
   "execution_count": null,
   "metadata": {},
   "outputs": [],
   "source": [
    "#Dump the mapping of the threshold and the clusters in pickle file\n",
    "with open('D1_cluster_data.pickle', 'wb') as handle:\n",
    "    pickle.dump(threshold_map, handle, protocol=pickle.HIGHEST_PROTOCOL)"
   ]
  },
  {
   "cell_type": "code",
   "execution_count": 5,
   "metadata": {},
   "outputs": [],
   "source": [
    "threshold_map = dict()\n",
    "with open('D1_cluster_data.pickle', 'rb') as handle:\n",
    "    threshold_map = pickle.load(handle)"
   ]
  },
  {
   "cell_type": "code",
   "execution_count": 6,
   "metadata": {},
   "outputs": [],
   "source": [
    "number_of_clusters = []\n",
    "\n",
    "for i in threshold_values:\n",
    "  number_of_clusters.append(threshold_map[i][0])"
   ]
  },
  {
   "cell_type": "code",
   "execution_count": 8,
   "metadata": {},
   "outputs": [
    {
     "data": {
      "text/plain": [
       "Text(0.5, 1.0, 'Distance D1')"
      ]
     },
     "execution_count": 8,
     "metadata": {},
     "output_type": "execute_result"
    },
    {
     "data": {
      "image/png": "[encoded data removed]",
      "text/plain": [
       "<Figure size 432x288 with 1 Axes>"
      ]
     },
     "metadata": {
      "needs_background": "light"
     },
     "output_type": "display_data"
    }
   ],
   "source": [
    "plt.grid()\n",
    "plt.plot(threshold_values,number_of_clusters)\n",
    "plt.scatter(threshold_values,number_of_clusters)\n",
    "plt.xlabel(\"Threshold Values\")\n",
    "plt.ylabel(\"Number of clusters\")\n",
    "plt.title(\"Distance D1\")"
   ]
  },
  {
   "cell_type": "code",
   "execution_count": 9,
   "metadata": {},
   "outputs": [
    {
     "data": {
      "text/plain": [
       "{0.0: [23531,\n",
       "  array([17087, 16383, 16055, ...,     6,     2,     0], dtype=int64)],\n",
       " 0.01: [20797,\n",
       "  array([17087, 16383, 16055, ...,  7796,   877,  3599], dtype=int64)],\n",
       " 0.02: [18603,\n",
       "  array([17087, 16383, 16055, ..., 15593,  3511,  7199], dtype=int64)],\n",
       " 0.03: [17018,\n",
       "  array([ 8543, 16383, 16055, ..., 15593,  7024,  7199], dtype=int64)],\n",
       " 0.04: [15647,\n",
       "  array([ 8543,  8191,  8027, ..., 15593,  7024, 14399], dtype=int64)],\n",
       " 0.05: [14897,\n",
       "  array([ 8543,  8191,  8027, ...,  7796,  7024, 14399], dtype=int64)],\n",
       " 0.06: [13507, array([8543, 8191, 8027, ..., 7796, 1755, 7199], dtype=int64)],\n",
       " 0.07: [11664, array([8543, 8191, 8027, ..., 7796, 3511, 7199], dtype=int64)],\n",
       " 0.08: [11626, array([8543, 8191, 8027, ..., 7796, 3511, 7199], dtype=int64)],\n",
       " 0.09: [11559, array([8543, 8191, 8027, ..., 7796, 3511, 7199], dtype=int64)],\n",
       " 0.1: [10812, array([8543, 8191, 8027, ..., 7796, 3511, 7199], dtype=int64)],\n",
       " 0.11: [9782, array([8543, 8191, 8027, ..., 7796, 3511, 7199], dtype=int64)],\n",
       " 0.12: [8958, array([8543, 8191, 8027, ..., 7796, 3511, 7199], dtype=int64)],\n",
       " 0.13: [6702, array([4271, 4095, 4013, ..., 3897, 3511, 3599], dtype=int64)],\n",
       " 0.14: [6698, array([4271, 4095, 4013, ..., 3897, 3511, 3599], dtype=int64)],\n",
       " 0.15: [6690, array([4271, 4095, 4013, ..., 3897, 3511, 3599], dtype=int64)],\n",
       " 0.16: [6672, array([4271, 4095, 4013, ..., 3897, 3511, 3599], dtype=int64)],\n",
       " 0.17: [6672, array([4271, 4095, 4013, ..., 3897, 3511, 3599], dtype=int64)],\n",
       " 0.18: [6598, array([4271, 4095, 4013, ..., 3897, 3511, 3599], dtype=int64)],\n",
       " 0.19: [6168, array([4271, 4095, 4013, ..., 3897, 3511, 3599], dtype=int64)],\n",
       " 0.2: [6167, array([4271, 4095, 4013, ..., 3897, 3511, 3599], dtype=int64)],\n",
       " 0.21: [6147, array([4271, 4095, 4013, ..., 3897, 3511, 3599], dtype=int64)],\n",
       " 0.22: [5581, array([4271, 4095, 4013, ..., 3897, 3511, 3599], dtype=int64)],\n",
       " 0.23: [5580, array([4271, 4095, 4013, ..., 3897, 3511, 3599], dtype=int64)],\n",
       " 0.24: [4784, array([4271, 4095, 4013, ..., 3897, 3511, 3599], dtype=int64)],\n",
       " 0.25: [2205, array([2135, 2047,  485, ..., 1948, 1755, 1799], dtype=int64)],\n",
       " 0.26: [2159, array([2135, 2047,  485, ..., 1948, 1755, 1799], dtype=int64)],\n",
       " 0.27: [2159, array([2135, 2047,  485, ..., 1948, 1755, 1799], dtype=int64)],\n",
       " 0.28: [2159, array([2135, 2047,  485, ..., 1948, 1755, 1799], dtype=int64)],\n",
       " 0.29: [2159, array([2135, 2047,  485, ..., 1948, 1755, 1799], dtype=int64)],\n",
       " 0.3: [2158, array([2135, 2047,  485, ..., 1948, 1755, 1799], dtype=int64)],\n",
       " 0.31: [2154, array([2135, 2047,  485, ..., 1948, 1755, 1799], dtype=int64)],\n",
       " 0.32: [2148, array([2135, 2047,  485, ..., 1948, 1755, 1799], dtype=int64)],\n",
       " 0.33: [2148, array([2135, 2047,  485, ..., 1948, 1755, 1799], dtype=int64)],\n",
       " 0.34: [2148, array([2135, 2047,  485, ..., 1948, 1755, 1799], dtype=int64)],\n",
       " 0.35000000000000003: [2142,\n",
       "  array([2135, 2047,  485, ..., 1948, 1755, 1799], dtype=int64)],\n",
       " 0.36: [2134, array([1067, 2047,  485, ..., 1948, 1755, 1799], dtype=int64)],\n",
       " 0.37: [2121, array([1067, 2047,  485, ..., 1948, 1755, 1799], dtype=int64)],\n",
       " 0.38: [2024, array([1067, 1023,  971, ...,    1, 1755, 1799], dtype=int64)],\n",
       " 0.39: [2024, array([1067, 1023,  971, ...,    1, 1755, 1799], dtype=int64)],\n",
       " 0.4: [2024, array([1067, 1023,  971, ...,    1, 1755, 1799], dtype=int64)],\n",
       " 0.41000000000000003: [2019,\n",
       "  array([1067, 1023,  971, ...,    4, 1755, 1799], dtype=int64)],\n",
       " 0.42: [2019, array([1067, 1023,  971, ...,    4, 1755, 1799], dtype=int64)],\n",
       " 0.43: [2011, array([1067, 1023,  971, ...,    9, 1755, 1799], dtype=int64)],\n",
       " 0.44: [1904, array([1067, 1023,  485, ...,   79, 1755, 1799], dtype=int64)],\n",
       " 0.45: [1904, array([1067, 1023,  485, ...,   79, 1755, 1799], dtype=int64)]}"
      ]
     },
     "execution_count": 9,
     "metadata": {},
     "output_type": "execute_result"
    }
   ],
   "source": [
    "threshold_map"
   ]
  },
  {
   "cell_type": "code",
   "execution_count": 12,
   "metadata": {},
   "outputs": [],
   "source": [
    "threshold = 0.05\n",
    "cluster_words_mapping = dict()\n",
    "cluster_lables = threshold_map[threshold][1]\n",
    "\n",
    "for i in range(len(cluster_lables)):\n",
    "  if cluster_words_mapping.get(cluster_lables[i]) == None:\n",
    "    cluster_words_mapping[cluster_lables[i]] = [word_list[i]]\n",
    "  else:\n",
    "    cluster_words_mapping[cluster_lables[i]].append(word_list[i])"
   ]
  },
  {
   "cell_type": "code",
   "execution_count": 13,
   "metadata": {},
   "outputs": [],
   "source": [
    "word_root_word_mapping = dict()\n",
    "for k,v in cluster_words_mapping.items():\n",
    "  root_word = commonprefix(v)\n",
    "  for word in v:\n",
    "    word_root_word_mapping[word] = root_word"
   ]
  },
  {
   "cell_type": "code",
   "execution_count": null,
   "metadata": {},
   "outputs": [],
   "source": [
    "count = 0\n",
    "for word in word_list:\n",
    "    stemmer = PorterStemmer()\n",
    "    \n",
    "    if word_root_word_mapping[word] == stemmer.stem(word):\n",
    "        count+=1\n",
    "        \n",
    "    print(\"Original Word: \",word,\" | Stemming using D1: \",word_root_word_mapping[word],\" | Stemming using Porter Stemmer: \",stemmer.stem(word))\n",
    "    print(\"*\"*100)\n",
    "    "
   ]
  },
  {
   "cell_type": "markdown",
   "metadata": {},
   "source": [
    "# Clustering using D2"
   ]
  },
  {
   "cell_type": "code",
   "execution_count": null,
   "metadata": {},
   "outputs": [],
   "source": [
    "d2_matrix = np.zeros((23531,23531))\n",
    "for i in range(23531):\n",
    "    for j in range(23531): \n",
    "        if i == j:\n",
    "            d2_matrix[i][j] = 0\n",
    "        elif d2_matrix[j][i] > 0:\n",
    "            d2_matrix[i][j] = d2_matrix[j][i]\n",
    "        else:\n",
    "          d2_matrix[i][j] = distanceD2(word_list[i],word_list[j])"
   ]
  },
  {
   "cell_type": "code",
   "execution_count": null,
   "metadata": {},
   "outputs": [],
   "source": [
    "dataframe = pd.DataFrame(d2_matrix)\n",
    "dataframe.to_csv(\"/content/gdrive/My Drive/Information_Retrieval/D2_matrix.csv\")\n",
    "data_D2 = pd.read_csv('/content/gdrive/My Drive/Information_Retrieval/D2_matrix.csv',header = None)"
   ]
  },
  {
   "cell_type": "code",
   "execution_count": null,
   "metadata": {},
   "outputs": [],
   "source": [
    "D2_matrix = data_D2.apply(pd.to_numeric)"
   ]
  },
  {
   "cell_type": "code",
   "execution_count": null,
   "metadata": {},
   "outputs": [],
   "source": [
    "D2_matrix = D2_matrix.replace(to_replace =float('inf'), \n",
    "                 value =np.finfo(np.float64).max)"
   ]
  },
  {
   "cell_type": "code",
   "execution_count": 23,
   "metadata": {},
   "outputs": [],
   "source": [
    "threshold_values = np.arange(0,0.9,0.01)"
   ]
  },
  {
   "cell_type": "code",
   "execution_count": null,
   "metadata": {},
   "outputs": [],
   "source": [
    "threshold_map = dict()\n",
    "for threshold in threshold_values:\n",
    "  agg_clustering = AgglomerativeClustering(n_clusters = None,linkage='complete',affinity='precomputed',distance_threshold = threshold)\n",
    "  agg_clustering.fit(D2_matrix)\n",
    "  number_of_clusters = agg_clustering.n_clusters_\n",
    "  cluster_labels = agg_clustering.labels_\n",
    "  threshold_map[threshold] = [number_of_clusters,cluster_labels]"
   ]
  },
  {
   "cell_type": "code",
   "execution_count": null,
   "metadata": {},
   "outputs": [],
   "source": [
    "with open('/content/gdrive/My Drive/Information_Retrieval/D2_cluster_data.pickle', 'wb') as handle:\n",
    "    pickle.dump(threshold_map, handle, protocol=pickle.HIGHEST_PROTOCOL)"
   ]
  },
  {
   "cell_type": "code",
   "execution_count": 25,
   "metadata": {},
   "outputs": [],
   "source": [
    "threshold_map = dict()\n",
    "with open('D2_cluster_data.pickle', 'rb') as handle:\n",
    "    threshold_map = pickle.load(handle)"
   ]
  },
  {
   "cell_type": "code",
   "execution_count": 26,
   "metadata": {},
   "outputs": [],
   "source": [
    "number_of_clusters = []\n",
    "for i in threshold_values:\n",
    "  number_of_clusters.append(threshold_map[i][0]) "
   ]
  },
  {
   "cell_type": "code",
   "execution_count": 39,
   "metadata": {},
   "outputs": [
    {
     "data": {
      "text/plain": [
       "Text(0.5, 1.0, 'Distance D2')"
      ]
     },
     "execution_count": 39,
     "metadata": {},
     "output_type": "execute_result"
    },
    {
     "data": {
      "image/png": "[encoded data removed]",
      "text/plain": [
       "<Figure size 432x288 with 1 Axes>"
      ]
     },
     "metadata": {
      "needs_background": "light"
     },
     "output_type": "display_data"
    }
   ],
   "source": [
    "plt.grid()\n",
    "plt.plot(threshold_values,number_of_clusters)\n",
    "plt.scatter(threshold_values,number_of_clusters)\n",
    "plt.xlabel(\"Threshold Values\")\n",
    "plt.ylabel(\"Number of clusters\")\n",
    "plt.title(\"Distance D2\")"
   ]
  },
  {
   "cell_type": "code",
   "execution_count": 28,
   "metadata": {},
   "outputs": [
    {
     "data": {
      "text/plain": [
       "{0.0: [23531,\n",
       "  array([23530, 20564, 23529, ...,     6,     2,     0], dtype=int64)],\n",
       " 0.01: [12602,\n",
       "  array([ 8447,  8447, 11667, ...,     1,     0,     0], dtype=int64)],\n",
       " 0.02: [12602,\n",
       "  array([ 8447,  8447, 11667, ...,     1,     0,     0], dtype=int64)],\n",
       " 0.03: [12602,\n",
       "  array([ 8447,  8447, 11667, ...,     1,     0,     0], dtype=int64)],\n",
       " 0.04: [12602,\n",
       "  array([ 8447,  8447, 11667, ...,     1,     0,     0], dtype=int64)],\n",
       " 0.05: [12602,\n",
       "  array([ 8447,  8447, 11667, ...,     1,     0,     0], dtype=int64)],\n",
       " 0.06: [12602,\n",
       "  array([ 8447,  8447, 11667, ...,     1,     0,     0], dtype=int64)],\n",
       " 0.07: [12602,\n",
       "  array([ 8447,  8447, 11667, ...,     1,     0,     0], dtype=int64)],\n",
       " 0.08: [12599,\n",
       "  array([ 8447,  8447, 11667, ...,     4,     7,     7], dtype=int64)],\n",
       " 0.09: [12594,\n",
       "  array([ 8447,  8447, 11667, ...,    10,    31,    31], dtype=int64)],\n",
       " 0.1: [12581,\n",
       "  array([ 8447,  8447, 11667, ...,    45,    64,    64], dtype=int64)],\n",
       " 0.11: [12562,\n",
       "  array([ 8447,  8447, 11667, ...,    92,    64,    64], dtype=int64)],\n",
       " 0.12: [12530,\n",
       "  array([ 8447,  8447, 11667, ...,   186,   259,   259], dtype=int64)],\n",
       " 0.13: [12463,\n",
       "  array([ 8447,  8447, 11667, ...,   186,   259,   259], dtype=int64)],\n",
       " 0.14: [12457,\n",
       "  array([ 8447,  8447, 11667, ...,   186,   259,   259], dtype=int64)],\n",
       " 0.15: [12372,\n",
       "  array([ 8447,  8447, 11667, ...,   186,  1041,  1041], dtype=int64)],\n",
       " 0.16: [12350,\n",
       "  array([ 8447,  8447, 11667, ...,   186,  1041,  1041], dtype=int64)],\n",
       " 0.17: [12204,\n",
       "  array([ 8447,  8447, 11667, ...,   186,  1041,  1041], dtype=int64)],\n",
       " 0.18: [12192,\n",
       "  array([ 8447,  8447, 11667, ...,   186,  1041,  1041], dtype=int64)],\n",
       " 0.19: [12122,\n",
       "  array([ 8447,  8447, 11667, ...,   186,  1041,  1041], dtype=int64)],\n",
       " 0.2: [12090,\n",
       "  array([ 8447,  8447, 11667, ...,   374,  1041,  1041], dtype=int64)],\n",
       " 0.21: [11992,\n",
       "  array([ 8447,  8447, 11667, ...,   374,  1041,  1041], dtype=int64)],\n",
       " 0.22: [11788,\n",
       "  array([ 8447,  8447, 11667, ...,   374,  1041,  1041], dtype=int64)],\n",
       " 0.23: [11788,\n",
       "  array([ 8447,  8447, 11667, ...,   374,  1041,  1041], dtype=int64)],\n",
       " 0.24: [11747,\n",
       "  array([ 8447,  8447, 11667, ...,   374,  1041,  1041], dtype=int64)],\n",
       " 0.25: [11726,\n",
       "  array([ 8447,  8447, 11667, ...,   374,  1041,  1041], dtype=int64)],\n",
       " 0.26: [11296, array([8447, 8447, 5833, ..., 1501, 2083, 2083], dtype=int64)],\n",
       " 0.27: [11182, array([8447, 8447, 5833, ..., 1501, 2083, 2083], dtype=int64)],\n",
       " 0.28: [11109, array([8447, 8447, 5833, ..., 1501, 2083, 2083], dtype=int64)],\n",
       " 0.29: [11074, array([8447, 8447, 5833, ..., 1501, 2083, 2083], dtype=int64)],\n",
       " 0.3: [10766, array([8447, 8447, 5833, ..., 3004, 4167, 4167], dtype=int64)],\n",
       " 0.31: [10530, array([8447, 8447, 5833, ..., 3004, 4167, 4167], dtype=int64)],\n",
       " 0.32: [10335, array([8447, 8447, 5833, ..., 3004, 4167, 4167], dtype=int64)],\n",
       " 0.33: [10120, array([8447, 8447, 5833, ..., 3004, 4167, 4167], dtype=int64)],\n",
       " 0.34: [10037, array([8447, 8447, 5833, ..., 3004, 4167, 4167], dtype=int64)],\n",
       " 0.35000000000000003: [9599,\n",
       "  array([8447, 8447, 5833, ..., 3004, 4167, 4167], dtype=int64)],\n",
       " 0.36: [9599, array([8447, 8447, 5833, ..., 3004, 4167, 4167], dtype=int64)],\n",
       " 0.37: [9599, array([8447, 8447, 5833, ..., 3004, 4167, 4167], dtype=int64)],\n",
       " 0.38: [8940, array([8447, 8447, 5833, ..., 3004, 4167, 4167], dtype=int64)],\n",
       " 0.39: [8663, array([8447, 8447, 5833, ..., 3004, 4167, 4167], dtype=int64)],\n",
       " 0.4: [8274, array([4223, 4223, 5833, ..., 3004, 2083, 2083], dtype=int64)],\n",
       " 0.41000000000000003: [8274,\n",
       "  array([4223, 4223, 5833, ..., 3004, 2083, 2083], dtype=int64)],\n",
       " 0.42: [8274, array([4223, 4223, 5833, ..., 3004, 2083, 2083], dtype=int64)],\n",
       " 0.43: [8274, array([4223, 4223, 5833, ..., 3004, 2083, 2083], dtype=int64)],\n",
       " 0.44: [7708, array([4223, 4223, 5833, ..., 3004, 2083, 2083], dtype=int64)],\n",
       " 0.45: [7708, array([4223, 4223, 5833, ..., 3004, 2083, 2083], dtype=int64)],\n",
       " 0.46: [7708, array([4223, 4223, 5833, ..., 3004, 2083, 2083], dtype=int64)],\n",
       " 0.47000000000000003: [7093,\n",
       "  array([4223, 4223, 5833, ..., 3004, 2083, 2083], dtype=int64)],\n",
       " 0.48: [7093, array([4223, 4223, 5833, ..., 3004, 2083, 2083], dtype=int64)],\n",
       " 0.49: [6567, array([4223, 4223, 5833, ..., 3004, 2083, 2083], dtype=int64)],\n",
       " 0.5: [5542, array([4223, 4223, 2916, ..., 1501, 4167, 4167], dtype=int64)],\n",
       " 0.51: [5418, array([4223, 4223, 2916, ..., 1501, 4167, 4167], dtype=int64)],\n",
       " 0.52: [5418, array([4223, 4223, 2916, ..., 1501, 4167, 4167], dtype=int64)],\n",
       " 0.53: [5418, array([4223, 4223, 2916, ..., 1501, 4167, 4167], dtype=int64)],\n",
       " 0.54: [5418, array([4223, 4223, 2916, ..., 1501, 4167, 4167], dtype=int64)],\n",
       " 0.55: [5418, array([4223, 4223, 2916, ..., 1501, 4167, 4167], dtype=int64)],\n",
       " 0.56: [5418, array([4223, 4223, 2916, ..., 1501, 4167, 4167], dtype=int64)],\n",
       " 0.5700000000000001: [5418,\n",
       "  array([4223, 4223, 2916, ..., 1501, 4167, 4167], dtype=int64)],\n",
       " 0.58: [5418, array([4223, 4223, 2916, ..., 1501, 4167, 4167], dtype=int64)],\n",
       " 0.59: [5071, array([4223, 4223, 2916, ..., 1501, 4167, 4167], dtype=int64)],\n",
       " 0.6: [5071, array([4223, 4223, 2916, ..., 1501, 4167, 4167], dtype=int64)],\n",
       " 0.61: [5071, array([4223, 4223, 2916, ..., 1501, 4167, 4167], dtype=int64)],\n",
       " 0.62: [5071, array([4223, 4223, 2916, ..., 1501, 4167, 4167], dtype=int64)],\n",
       " 0.63: [4462, array([4223, 4223, 2916, ..., 1501, 4167, 4167], dtype=int64)],\n",
       " 0.64: [4462, array([4223, 4223, 2916, ..., 1501, 4167, 4167], dtype=int64)],\n",
       " 0.65: [3756, array([2111, 2111, 2916, ..., 1501, 2083, 2083], dtype=int64)],\n",
       " 0.66: [3122, array([2111, 2111,  486, ..., 1501, 2083, 2083], dtype=int64)],\n",
       " 0.67: [1935, array([1055, 1055,  483, ...,  750, 1041, 1041], dtype=int64)],\n",
       " 0.68: [1935, array([1055, 1055,  483, ...,  750, 1041, 1041], dtype=int64)],\n",
       " 0.6900000000000001: [1935,\n",
       "  array([1055, 1055,  483, ...,  750, 1041, 1041], dtype=int64)],\n",
       " 0.7000000000000001: [1935,\n",
       "  array([1055, 1055,  483, ...,  750, 1041, 1041], dtype=int64)],\n",
       " 0.71: [1935, array([1055, 1055,  483, ...,  750, 1041, 1041], dtype=int64)],\n",
       " 0.72: [1935, array([1055, 1055,  483, ...,  750, 1041, 1041], dtype=int64)],\n",
       " 0.73: [1935, array([1055, 1055,  483, ...,  750, 1041, 1041], dtype=int64)],\n",
       " 0.74: [1935, array([1055, 1055,  483, ...,  750, 1041, 1041], dtype=int64)],\n",
       " 0.75: [1935, array([1055, 1055,  483, ...,  750, 1041, 1041], dtype=int64)],\n",
       " 0.76: [1910, array([1055, 1055,  483, ...,  750, 1041, 1041], dtype=int64)],\n",
       " 0.77: [1910, array([1055, 1055,  483, ...,  750, 1041, 1041], dtype=int64)],\n",
       " 0.78: [1910, array([1055, 1055,  483, ...,  750, 1041, 1041], dtype=int64)],\n",
       " 0.79: [1910, array([1055, 1055,  483, ...,  750, 1041, 1041], dtype=int64)],\n",
       " 0.8: [1910, array([1055, 1055,  483, ...,  750, 1041, 1041], dtype=int64)],\n",
       " 0.81: [1910, array([1055, 1055,  483, ...,  750, 1041, 1041], dtype=int64)],\n",
       " 0.8200000000000001: [1910,\n",
       "  array([1055, 1055,  483, ...,  750, 1041, 1041], dtype=int64)],\n",
       " 0.8300000000000001: [1910,\n",
       "  array([1055, 1055,  483, ...,  750, 1041, 1041], dtype=int64)],\n",
       " 0.84: [1910, array([1055, 1055,  483, ...,  750, 1041, 1041], dtype=int64)],\n",
       " 0.85: [1910, array([1055, 1055,  483, ...,  750, 1041, 1041], dtype=int64)],\n",
       " 0.86: [1910, array([1055, 1055,  483, ...,  750, 1041, 1041], dtype=int64)],\n",
       " 0.87: [1910, array([1055, 1055,  483, ...,  750, 1041, 1041], dtype=int64)],\n",
       " 0.88: [1853, array([1055, 1055,  483, ...,  750, 1041, 1041], dtype=int64)],\n",
       " 0.89: [1853, array([1055, 1055,  483, ...,  750, 1041, 1041], dtype=int64)]}"
      ]
     },
     "execution_count": 28,
     "metadata": {},
     "output_type": "execute_result"
    }
   ],
   "source": [
    "threshold_map"
   ]
  },
  {
   "cell_type": "code",
   "execution_count": 29,
   "metadata": {},
   "outputs": [],
   "source": [
    "list_of_clusters_and_their_words = []\n",
    "threshold = 0.01\n",
    "cluster_words_mapping = dict()\n",
    "cluster_lables = threshold_map[threshold][1]\n",
    "\n",
    "for i in range(len(cluster_lables)):\n",
    "  if cluster_words_mapping.get(cluster_lables[i]) == None:\n",
    "    cluster_words_mapping[cluster_lables[i]] = [word_list[i]]\n",
    "  else:\n",
    "    cluster_words_mapping[cluster_lables[i]].append(word_list[i])"
   ]
  },
  {
   "cell_type": "code",
   "execution_count": 30,
   "metadata": {},
   "outputs": [],
   "source": [
    "word_root_word_mapping = dict()\n",
    "for k,v in cluster_words_mapping.items():\n",
    "  root_word = commonprefix(v)\n",
    "  for word in v:\n",
    "    word_root_word_mapping[word] = root_word"
   ]
  },
  {
   "cell_type": "code",
   "execution_count": null,
   "metadata": {},
   "outputs": [],
   "source": [
    "count = 0\n",
    "for word in word_list:\n",
    "    stemmer = PorterStemmer()\n",
    "    \n",
    "    if word_root_word_mapping[word] == stemmer.stem(word):\n",
    "        count+=1\n",
    "        \n",
    "    print(\"Original Word: \",word,\" | Stemming using D2: \",word_root_word_mapping[word],\" | Stemming using Porter Stemmer: \",stemmer.stem(word))\n",
    "    print(\"*\"*100)"
   ]
  },
  {
   "cell_type": "markdown",
   "metadata": {},
   "source": [
    "# Clustering using D3"
   ]
  },
  {
   "cell_type": "code",
   "execution_count": null,
   "metadata": {},
   "outputs": [],
   "source": [
    "d3_matrix = np.zeros((23531,23531))\n",
    "for i in range(23531):\n",
    "    for j in range(23531): \n",
    "        if i == j:\n",
    "            d3_matrix[i][j] = 0\n",
    "        elif d3_matrix[j][i] > 0:\n",
    "            d3_matrix[i][j] = d3_matrix[j][i]\n",
    "        else:\n",
    "          d3_matrix[i][j] = distanceD3(word_list[i],word_list[j])"
   ]
  },
  {
   "cell_type": "code",
   "execution_count": null,
   "metadata": {},
   "outputs": [],
   "source": [
    "dataframe = pd.DataFrame(d3_matrix)\n",
    "dataframe.to_csv(\"/content/gdrive/My Drive/Information_Retrieval/D3_matrix.csv\")\n",
    "data_D3 = pd.read_csv('/content/gdrive/My Drive/Information_Retrieval/D3_matrix.csv',header = None)"
   ]
  },
  {
   "cell_type": "code",
   "execution_count": null,
   "metadata": {},
   "outputs": [],
   "source": [
    "D3_matrix = data_D3.apply(pd.to_numeric)"
   ]
  },
  {
   "cell_type": "code",
   "execution_count": 35,
   "metadata": {},
   "outputs": [],
   "source": [
    "threshold_values = np.arange(0,3,0.1)"
   ]
  },
  {
   "cell_type": "code",
   "execution_count": null,
   "metadata": {},
   "outputs": [],
   "source": [
    "threshold_map = dict()\n",
    "for threshold in threshold_values:\n",
    "  agg_clustering = AgglomerativeClustering(n_clusters = None,linkage='complete',affinity='precomputed',distance_threshold = threshold)\n",
    "  agg_clustering.fit(D3_matrix)\n",
    "  number_of_clusters = agg_clustering.n_clusters_\n",
    "  cluster_labels = agg_clustering.labels_\n",
    "  threshold_map[threshold] = [number_of_clusters,cluster_labels]"
   ]
  },
  {
   "cell_type": "code",
   "execution_count": null,
   "metadata": {},
   "outputs": [],
   "source": [
    "with open('/content/gdrive/My Drive/Information_Retrieval/D3_cluster_data.pickle', 'wb') as handle:\n",
    "    pickle.dump(threshold_map, handle, protocol=pickle.HIGHEST_PROTOCOL)"
   ]
  },
  {
   "cell_type": "code",
   "execution_count": 33,
   "metadata": {},
   "outputs": [],
   "source": [
    "threshold_map = dict()\n",
    "with open('D3_cluster_data.pickle', 'rb') as handle:\n",
    "    threshold_map = pickle.load(handle)"
   ]
  },
  {
   "cell_type": "code",
   "execution_count": 36,
   "metadata": {},
   "outputs": [],
   "source": [
    "number_of_clusters = []\n",
    "for i in threshold_values:\n",
    "  number_of_clusters.append(threshold_map[i][0]) "
   ]
  },
  {
   "cell_type": "code",
   "execution_count": 40,
   "metadata": {},
   "outputs": [
    {
     "data": {
      "text/plain": [
       "Text(0.5, 1.0, 'Distance D3')"
      ]
     },
     "execution_count": 40,
     "metadata": {},
     "output_type": "execute_result"
    },
    {
     "data": {
      "image/png": "[encoded data removed]",
      "text/plain": [
       "<Figure size 432x288 with 1 Axes>"
      ]
     },
     "metadata": {
      "needs_background": "light"
     },
     "output_type": "display_data"
    }
   ],
   "source": [
    "plt.grid()\n",
    "plt.plot(threshold_values,number_of_clusters)\n",
    "plt.scatter(threshold_values,number_of_clusters)\n",
    "plt.xlabel(\"Threshold Values\")\n",
    "plt.ylabel(\"Number of clusters\")\n",
    "plt.title(\"Distance D3\")"
   ]
  },
  {
   "cell_type": "code",
   "execution_count": 41,
   "metadata": {},
   "outputs": [
    {
     "data": {
      "text/plain": [
       "{0.0: [23531,\n",
       "  array([13210, 15375, 15055, ...,     6,     2,     0], dtype=int64)],\n",
       " 0.1: [23407,\n",
       "  array([13210, 15375, 15055, ...,   235,   116,    16], dtype=int64)],\n",
       " 0.2: [20743,\n",
       "  array([13210, 15375, 15055, ...,  3786,  3765,  1119], dtype=int64)],\n",
       " 0.30000000000000004: [18456,\n",
       "  array([13210, 15375, 15055, ...,  3786,  3765,  4479], dtype=int64)],\n",
       " 0.4: [17347,\n",
       "  array([13210, 15375, 15055, ...,  3786,  3765,  4479], dtype=int64)],\n",
       " 0.5: [16887,\n",
       "  array([13210, 15375, 15055, ...,  3786,  3765,  4479], dtype=int64)],\n",
       " 0.6000000000000001: [15154,\n",
       "  array([13210,  7687, 15055, ...,  3786,  7531,  8959], dtype=int64)],\n",
       " 0.7000000000000001: [14988,\n",
       "  array([13210,  7687,  7527, ...,  3786,  7531,  8959], dtype=int64)],\n",
       " 0.8: [13806,\n",
       "  array([13210,  7687,  7527, ...,  3786,  7531,  8959], dtype=int64)],\n",
       " 0.9: [13279,\n",
       "  array([13210,  7687,  7527, ...,  3786,  7531,  8959], dtype=int64)],\n",
       " 1.0: [13211,\n",
       "  array([13210,  7687,  7527, ...,  3786,  7531,  8959], dtype=int64)],\n",
       " 1.1: [11598, array([ 699, 7687, 7527, ..., 3786, 7531, 8959], dtype=int64)],\n",
       " 1.2000000000000002: [11598,\n",
       "  array([ 699, 7687, 7527, ..., 3786, 7531, 8959], dtype=int64)],\n",
       " 1.3: [11305, array([1400, 7687, 7527, ..., 3786, 7531, 8959], dtype=int64)],\n",
       " 1.4000000000000001: [10378,\n",
       "  array([1400, 7687, 7527, ..., 3786, 7531, 8959], dtype=int64)],\n",
       " 1.5: [10369, array([2801, 7687, 7527, ..., 3786, 7531, 8959], dtype=int64)],\n",
       " 1.6: [9586, array([2801, 7687, 7527, ...,    0, 7531, 8959], dtype=int64)],\n",
       " 1.7000000000000002: [9403,\n",
       "  array([2801, 7687, 7527, ...,  641, 7531, 8959], dtype=int64)],\n",
       " 1.8: [8583, array([2801, 7687, 7527, ..., 1283, 7531, 4479], dtype=int64)],\n",
       " 1.9000000000000001: [7937,\n",
       "  array([2801, 7687, 7527, ..., 2568, 7531, 4479], dtype=int64)],\n",
       " 2.0: [7615, array([2801, 3843, 7527, ..., 5137, 7531, 4479], dtype=int64)],\n",
       " 2.1: [7615, array([2801, 3843, 7527, ..., 5137, 7531, 4479], dtype=int64)],\n",
       " 2.2: [7615, array([2801, 3843, 7527, ..., 5137, 7531, 4479], dtype=int64)],\n",
       " 2.3000000000000003: [7611,\n",
       "  array([2801, 3843, 7527, ..., 5137, 7531, 4479], dtype=int64)],\n",
       " 2.4000000000000004: [7401,\n",
       "  array([2801, 3843, 3763, ..., 5137, 3765, 4479], dtype=int64)],\n",
       " 2.5: [6805, array([2801, 3843, 3763, ..., 5137, 3765, 4479], dtype=int64)],\n",
       " 2.6: [5910, array([2801, 3843, 3763, ..., 5137, 3765, 4479], dtype=int64)],\n",
       " 2.7: [5696, array([2801, 3843, 3763, ..., 5137, 3765, 4479], dtype=int64)],\n",
       " 2.8000000000000003: [5589,\n",
       "  array([2801, 3843, 3763, ..., 5137, 3765, 4479], dtype=int64)],\n",
       " 2.9000000000000004: [5589,\n",
       "  array([2801, 3843, 3763, ..., 5137, 3765, 4479], dtype=int64)]}"
      ]
     },
     "execution_count": 41,
     "metadata": {},
     "output_type": "execute_result"
    }
   ],
   "source": [
    "threshold_map"
   ]
  },
  {
   "cell_type": "code",
   "execution_count": 42,
   "metadata": {},
   "outputs": [],
   "source": [
    "list_of_clusters_and_their_words = []\n",
    "threshold = 0.7000000000000001\n",
    "cluster_words_mapping = dict()\n",
    "cluster_lables = threshold_map[threshold][1]\n",
    "\n",
    "for i in range(len(cluster_lables)):\n",
    "  if cluster_words_mapping.get(cluster_lables[i]) == None:\n",
    "    cluster_words_mapping[cluster_lables[i]] = [word_list[i]]\n",
    "  else:\n",
    "    cluster_words_mapping[cluster_lables[i]].append(word_list[i])"
   ]
  },
  {
   "cell_type": "code",
   "execution_count": 43,
   "metadata": {},
   "outputs": [],
   "source": [
    "word_root_word_mapping = dict()\n",
    "for k,v in cluster_words_mapping.items():\n",
    "  root_word = commonprefix(v)\n",
    "  for word in v:\n",
    "    word_root_word_mapping[word] = root_word"
   ]
  },
  {
   "cell_type": "code",
   "execution_count": null,
   "metadata": {},
   "outputs": [],
   "source": [
    "count = 0\n",
    "for word in word_list:\n",
    "    stemmer = PorterStemmer()\n",
    "    \n",
    "    if word_root_word_mapping[word] == stemmer.stem(word):\n",
    "        count+=1\n",
    "        \n",
    "    print(\"Original Word: \",word,\" | Stemming using D3: \",word_root_word_mapping[word],\" | Stemming using Porter Stemmer: \",stemmer.stem(word))\n",
    "    print(\"*\"*100)"
   ]
  },
  {
   "cell_type": "markdown",
   "metadata": {},
   "source": [
    "# Clustering using D4"
   ]
  },
  {
   "cell_type": "code",
   "execution_count": null,
   "metadata": {},
   "outputs": [],
   "source": [
    "d4_matrix = np.zeros((23531,23531))\n",
    "for i in range(23531):\n",
    "    for j in range(23531): \n",
    "        if i == j:\n",
    "            d4_matrix[i][j] = 0\n",
    "        elif d4_matrix[j][i] > 0:\n",
    "            d4_matrix[i][j] = d4_matrix[j][i]\n",
    "        else:\n",
    "          d4_matrix[i][j] = distanceD4(word_list[i],word_list[j])"
   ]
  },
  {
   "cell_type": "code",
   "execution_count": null,
   "metadata": {},
   "outputs": [],
   "source": [
    "dataframe = pd.DataFrame(d4_matrix)\n",
    "dataframe.to_csv(\"/content/gdrive/My Drive/Information_Retrieval/D4_matrix.csv\")\n",
    "data_D4 = pd.read_csv('/content/gdrive/My Drive/Information_Retrieval/D4_matrix.csv',header = None)"
   ]
  },
  {
   "cell_type": "code",
   "execution_count": null,
   "metadata": {},
   "outputs": [],
   "source": [
    "D4_matrix = data_D4.apply(pd.to_numeric)"
   ]
  },
  {
   "cell_type": "code",
   "execution_count": 46,
   "metadata": {},
   "outputs": [],
   "source": [
    "threshold_values = np.arange(0.2,1,0.02)"
   ]
  },
  {
   "cell_type": "code",
   "execution_count": null,
   "metadata": {},
   "outputs": [],
   "source": [
    "threshold_map = dict()\n",
    "for threshold in threshold_values:\n",
    "  agg_clustering = AgglomerativeClustering(n_clusters = None,linkage='complete',affinity='precomputed',distance_threshold = threshold)\n",
    "  agg_clustering.fit(D4_matrix)\n",
    "  number_of_clusters = agg_clustering.n_clusters_\n",
    "  cluster_labels = agg_clustering.labels_\n",
    "  threshold_map[threshold] = [number_of_clusters,cluster_labels]"
   ]
  },
  {
   "cell_type": "code",
   "execution_count": null,
   "metadata": {},
   "outputs": [],
   "source": [
    "with open('/content/gdrive/My Drive/Information_Retrieval/D4_cluster_data.pickle', 'wb') as handle:\n",
    "    pickle.dump(threshold_map, handle, protocol=pickle.HIGHEST_PROTOCOL)"
   ]
  },
  {
   "cell_type": "code",
   "execution_count": 47,
   "metadata": {},
   "outputs": [],
   "source": [
    "threshold_map = dict()\n",
    "with open('D4_cluster_data.pickle', 'rb') as handle:\n",
    "    threshold_map = pickle.load(handle)"
   ]
  },
  {
   "cell_type": "code",
   "execution_count": 48,
   "metadata": {},
   "outputs": [],
   "source": [
    "number_of_clusters = []\n",
    "for i in threshold_values:\n",
    "  number_of_clusters.append(threshold_map[i][0]) "
   ]
  },
  {
   "cell_type": "code",
   "execution_count": 49,
   "metadata": {},
   "outputs": [
    {
     "data": {
      "text/plain": [
       "Text(0.5, 1.0, 'Distance D4')"
      ]
     },
     "execution_count": 49,
     "metadata": {},
     "output_type": "execute_result"
    },
    {
     "data": {
      "image/png": "[encoded data removed]",
      "text/plain": [
       "<Figure size 432x288 with 1 Axes>"
      ]
     },
     "metadata": {
      "needs_background": "light"
     },
     "output_type": "display_data"
    }
   ],
   "source": [
    "plt.grid()\n",
    "plt.plot(threshold_values,number_of_clusters)\n",
    "plt.scatter(threshold_values,number_of_clusters)\n",
    "plt.xlabel(\"Threshold Values\")\n",
    "plt.ylabel(\"Number of clusters\")\n",
    "plt.title(\"Distance D4\")"
   ]
  },
  {
   "cell_type": "code",
   "execution_count": 50,
   "metadata": {},
   "outputs": [
    {
     "data": {
      "text/plain": [
       "{0.2: [19686,\n",
       "  array([14990, 10703, 15043, ..., 10251,  4032, 10947], dtype=int64)],\n",
       " 0.22: [18547,\n",
       "  array([14990, 10703, 15043, ..., 10251,  8065, 10947], dtype=int64)],\n",
       " 0.24: [18521,\n",
       "  array([14990, 10703, 15043, ..., 10251,  8065, 10947], dtype=int64)],\n",
       " 0.26: [17733,\n",
       "  array([14990, 10703, 15043, ..., 10251,  8065, 10947], dtype=int64)],\n",
       " 0.27999999999999997: [17590,\n",
       "  array([14990, 10703, 15043, ..., 10251, 16132, 10947], dtype=int64)],\n",
       " 0.29999999999999993: [17590,\n",
       "  array([14990, 10703, 15043, ..., 10251, 16132, 10947], dtype=int64)],\n",
       " 0.31999999999999995: [17347,\n",
       "  array([14990, 10703, 15043, ..., 10251, 16132, 10947], dtype=int64)],\n",
       " 0.33999999999999997: [16662,\n",
       "  array([14990, 10703, 15043, ..., 10251, 16132, 10947], dtype=int64)],\n",
       " 0.35999999999999993: [16658,\n",
       "  array([14990, 10703, 15043, ..., 10251, 16132, 10947], dtype=int64)],\n",
       " 0.3799999999999999: [16005,\n",
       "  array([14990, 10703, 15043, ..., 10251,  8065, 10947], dtype=int64)],\n",
       " 0.3999999999999999: [16005,\n",
       "  array([14990, 10703, 15043, ..., 10251,  8065, 10947], dtype=int64)],\n",
       " 0.41999999999999993: [15974,\n",
       "  array([14990, 10703, 15043, ..., 10251,  8065, 10947], dtype=int64)],\n",
       " 0.4399999999999999: [15157,\n",
       "  array([14990, 10703, 15043, ..., 10251,  8065, 10947], dtype=int64)],\n",
       " 0.4599999999999999: [15154,\n",
       "  array([14990, 10703, 15043, ..., 10251,  8065, 10947], dtype=int64)],\n",
       " 0.47999999999999987: [14991,\n",
       "  array([14990, 10703,  7521, ..., 10251,  8065, 10947], dtype=int64)],\n",
       " 0.49999999999999983: [14991,\n",
       "  array([14990, 10703,  7521, ..., 10251,  8065, 10947], dtype=int64)],\n",
       " 0.5199999999999998: [14122,\n",
       "  array([  475, 10703,  7521, ..., 10251,  8065, 10947], dtype=int64)],\n",
       " 0.5399999999999998: [13761,\n",
       "  array([  951, 10703,  7521, ..., 10251,  8065, 10947], dtype=int64)],\n",
       " 0.5599999999999998: [13761,\n",
       "  array([  951, 10703,  7521, ..., 10251,  8065, 10947], dtype=int64)],\n",
       " 0.5799999999999998: [13726,\n",
       "  array([  951, 10703,  7521, ..., 10251,  8065, 10947], dtype=int64)],\n",
       " 0.5999999999999999: [13235,\n",
       "  array([  951, 10703,  7521, ..., 10251,  8065, 10947], dtype=int64)],\n",
       " 0.6199999999999999: [12479,\n",
       "  array([  951, 10703,  7521, ..., 10251,  8065, 10947], dtype=int64)],\n",
       " 0.6399999999999998: [12415,\n",
       "  array([  951, 10703,  7521, ..., 10251,  8065, 10947], dtype=int64)],\n",
       " 0.6599999999999997: [11758,\n",
       "  array([  951, 10703,  7521, ..., 10251,  8065, 10947], dtype=int64)],\n",
       " 0.6799999999999997: [11758,\n",
       "  array([  951, 10703,  7521, ..., 10251,  8065, 10947], dtype=int64)],\n",
       " 0.6999999999999997: [11598,\n",
       "  array([  951, 10703,  7521, ..., 10251,  8065, 10947], dtype=int64)],\n",
       " 0.7199999999999998: [11598,\n",
       "  array([  951, 10703,  7521, ..., 10251,  8065, 10947], dtype=int64)],\n",
       " 0.7399999999999998: [11598,\n",
       "  array([  951, 10703,  7521, ..., 10251,  8065, 10947], dtype=int64)],\n",
       " 0.7599999999999998: [10112,\n",
       "  array([ 951, 5351, 7521, ...,   13, 8065, 5473], dtype=int64)],\n",
       " 0.7799999999999998: [10112,\n",
       "  array([ 951, 5351, 7521, ...,   13, 8065, 5473], dtype=int64)],\n",
       " 0.7999999999999996: [10109,\n",
       "  array([ 951, 5351, 7521, ...,   13, 8065, 5473], dtype=int64)],\n",
       " 0.8199999999999996: [10046,\n",
       "  array([ 951, 5351, 7521, ...,   13, 8065, 5473], dtype=int64)],\n",
       " 0.8399999999999996: [9593,\n",
       "  array([3807, 5351, 7521, ..., 1805, 8065, 5473], dtype=int64)],\n",
       " 0.8599999999999997: [9585,\n",
       "  array([3807, 5351, 7521, ..., 1805, 8065, 5473], dtype=int64)],\n",
       " 0.8799999999999997: [8770,\n",
       "  array([3807, 5351, 7521, ..., 1805, 8065, 5473], dtype=int64)],\n",
       " 0.8999999999999997: [8610,\n",
       "  array([3807, 5351, 7521, ..., 1805, 8065, 5473], dtype=int64)],\n",
       " 0.9199999999999997: [8592,\n",
       "  array([3807, 5351, 7521, ..., 1805, 8065, 5473], dtype=int64)],\n",
       " 0.9399999999999997: [7938,\n",
       "  array([3807, 5351, 7521, ..., 1805, 4032, 5473], dtype=int64)],\n",
       " 0.9599999999999995: [7938,\n",
       "  array([3807, 5351, 7521, ..., 1805, 4032, 5473], dtype=int64)],\n",
       " 0.9799999999999995: [7681,\n",
       "  array([3807, 5351, 7521, ..., 1805, 4032, 5473], dtype=int64)],\n",
       " 0.9999999999999996: [7617,\n",
       "  array([3807, 5351, 7521, ..., 1805, 4032, 5473], dtype=int64)],\n",
       " 1.0199999999999996: [7579,\n",
       "  array([  28, 5351, 7521, ..., 1805, 4032, 5473], dtype=int64)],\n",
       " 1.0399999999999996: [7579,\n",
       "  array([  28, 5351, 7521, ..., 1805, 4032, 5473], dtype=int64)],\n",
       " 1.0599999999999996: [7247,\n",
       "  array([ 116, 5351, 3760, ..., 1805, 4032, 5473], dtype=int64)],\n",
       " 1.0799999999999996: [5676,\n",
       "  array([ 939, 5351, 3760, ..., 1805, 4032, 5473], dtype=int64)],\n",
       " 1.0999999999999996: [5676,\n",
       "  array([ 939, 5351, 3760, ..., 1805, 4032, 5473], dtype=int64)],\n",
       " 1.1199999999999994: [5676,\n",
       "  array([ 939, 5351, 3760, ..., 1805, 4032, 5473], dtype=int64)],\n",
       " 1.1399999999999995: [5669,\n",
       "  array([ 939, 5351, 3760, ..., 1805, 4032, 5473], dtype=int64)],\n",
       " 1.1599999999999995: [5558,\n",
       "  array([1880, 5351, 3760, ..., 1805, 4032, 5473], dtype=int64)],\n",
       " 1.1799999999999995: [5558,\n",
       "  array([1880, 5351, 3760, ..., 1805, 4032, 5473], dtype=int64)],\n",
       " 1.1999999999999995: [5145,\n",
       "  array([1880, 2675, 3760, ..., 1805, 4032, 2736], dtype=int64)],\n",
       " 1.2199999999999995: [4324,\n",
       "  array([3762, 2675, 3760, ..., 1805, 4032, 2736], dtype=int64)],\n",
       " 1.2399999999999995: [4283,\n",
       "  array([3762, 2675, 3760, ..., 1805, 4032, 2736], dtype=int64)],\n",
       " 1.2599999999999993: [4029,\n",
       "  array([3762, 2675, 3760, ...,    1,    1, 2736], dtype=int64)],\n",
       " 1.2799999999999994: [3780,\n",
       "  array([3762, 2675, 3760, ...,   94,   94, 2736], dtype=int64)],\n",
       " 1.2999999999999994: [3764,\n",
       "  array([3762, 2675, 3760, ...,   94,   94, 2736], dtype=int64)],\n",
       " 1.3199999999999994: [3096,\n",
       "  array([ 180, 2675,  348, ...,  190,  190, 2736], dtype=int64)],\n",
       " 1.3399999999999994: [2970,\n",
       "  array([ 362, 2675,  698, ...,  382,  382, 2736], dtype=int64)],\n",
       " 1.3599999999999994: [2970,\n",
       "  array([ 362, 2675,  698, ...,  382,  382, 2736], dtype=int64)],\n",
       " 1.3799999999999994: [2968,\n",
       "  array([ 362, 2675,  698, ...,  382,  382, 2736], dtype=int64)],\n",
       " 1.3999999999999992: [2103,\n",
       "  array([1453, 1337,  235, ...,  343,  343, 1367], dtype=int64)],\n",
       " 1.4199999999999993: [2103,\n",
       "  array([1453, 1337,  235, ...,  343,  343, 1367], dtype=int64)],\n",
       " 1.4399999999999993: [2076,\n",
       "  array([1453, 1337,  471, ...,  343,  343, 1367], dtype=int64)],\n",
       " 1.4599999999999993: [1770,\n",
       "  array([1453, 1337,  471, ...,  688,  688, 1367], dtype=int64)],\n",
       " 1.4799999999999993: [1506,\n",
       "  array([1453, 1337,  944, ...,  688,  688, 1367], dtype=int64)],\n",
       " 1.4999999999999993: [1338,\n",
       "  array([ 726, 1337,  944, ...,  688,  688,  683], dtype=int64)],\n",
       " 1.5199999999999994: [1322,\n",
       "  array([  7,   7, 944, ..., 688, 688, 683], dtype=int64)],\n",
       " 1.5399999999999994: [1240,\n",
       "  array([ 31,  31, 944, ..., 688, 688, 683], dtype=int64)],\n",
       " 1.5599999999999994: [967,\n",
       "  array([128, 128, 944, ..., 688, 688, 683], dtype=int64)],\n",
       " 1.5799999999999992: [944,\n",
       "  array([257, 257, 471, ..., 688, 688, 683], dtype=int64)],\n",
       " 1.5999999999999992: [672,\n",
       "  array([257, 257, 327, ..., 171, 171, 341], dtype=int64)],\n",
       " 1.6199999999999992: [660,\n",
       "  array([257, 257, 327, ..., 343, 343, 341], dtype=int64)],\n",
       " 1.6399999999999992: [470,\n",
       "  array([257, 257, 215, ..., 343, 343, 341], dtype=int64)],\n",
       " 1.6599999999999993: [467,\n",
       "  array([257, 257, 215, ..., 343, 343, 341], dtype=int64)],\n",
       " 1.6799999999999993: [354,\n",
       "  array([257, 257,  63, ..., 343, 343, 341], dtype=int64)],\n",
       " 1.6999999999999993: [278,\n",
       "  array([ 27,  27, 128, ...,  53,  53,  53], dtype=int64)],\n",
       " 1.719999999999999: [251,\n",
       "  array([ 56,  56, 128, ...,  53,  53,  53], dtype=int64)],\n",
       " 1.739999999999999: [221,\n",
       "  array([ 12,  12, 128, ...,  53,  53,  53], dtype=int64)],\n",
       " 1.7599999999999991: [216,\n",
       "  array([ 25,  25, 128, ...,  53,  53,  53], dtype=int64)],\n",
       " 1.7799999999999991: [193,\n",
       "  array([ 40,  40, 128, ...,  53,  53,  53], dtype=int64)],\n",
       " 1.7999999999999992: [168,\n",
       "  array([ 40,  40, 128, ...,   2,   2,   2], dtype=int64)],\n",
       " 1.8199999999999992: [129,\n",
       "  array([ 30,  30, 128, ...,  25,  25,  25], dtype=int64)],\n",
       " 1.8399999999999992: [94, array([45, 45, 45, ..., 12, 12, 12], dtype=int64)],\n",
       " 1.8599999999999992: [47, array([ 9,  9,  9, ..., 12, 12, 12], dtype=int64)],\n",
       " 1.8799999999999992: [31, array([ 9,  9,  9, ..., 25, 25, 25], dtype=int64)],\n",
       " 1.899999999999999: [28, array([ 6,  6,  6, ..., 25, 25, 25], dtype=int64)],\n",
       " 1.919999999999999: [28, array([ 6,  6,  6, ..., 25, 25, 25], dtype=int64)],\n",
       " 1.939999999999999: [27, array([ 6,  6,  6, ..., 25, 25, 25], dtype=int64)],\n",
       " 1.959999999999999: [27, array([ 6,  6,  6, ..., 25, 25, 25], dtype=int64)],\n",
       " 1.979999999999999: [27, array([ 6,  6,  6, ..., 25, 25, 25], dtype=int64)]}"
      ]
     },
     "execution_count": 50,
     "metadata": {},
     "output_type": "execute_result"
    }
   ],
   "source": [
    "threshold_map"
   ]
  },
  {
   "cell_type": "code",
   "execution_count": 51,
   "metadata": {},
   "outputs": [],
   "source": [
    "list_of_clusters_and_their_words = []\n",
    "threshold = 0.47999999999999987\n",
    "cluster_words_mapping = dict()\n",
    "cluster_lables = threshold_map[threshold][1]\n",
    "\n",
    "for i in range(len(cluster_lables)):\n",
    "  if cluster_words_mapping.get(cluster_lables[i]) == None:\n",
    "    cluster_words_mapping[cluster_lables[i]] = [word_list[i]]\n",
    "  else:\n",
    "    cluster_words_mapping[cluster_lables[i]].append(word_list[i])"
   ]
  },
  {
   "cell_type": "code",
   "execution_count": 52,
   "metadata": {},
   "outputs": [],
   "source": [
    "word_root_word_mapping = dict()\n",
    "for k,v in cluster_words_mapping.items():\n",
    "  root_word = commonprefix(v)\n",
    "  for word in v:\n",
    "    word_root_word_mapping[word] = root_word"
   ]
  },
  {
   "cell_type": "code",
   "execution_count": null,
   "metadata": {
    "scrolled": true
   },
   "outputs": [],
   "source": [
    "count = 0\n",
    "for word in word_list:\n",
    "    stemmer = PorterStemmer()\n",
    "    \n",
    "    if word_root_word_mapping[word] == stemmer.stem(word):\n",
    "        count+=1\n",
    "        \n",
    "    print(\"Original Word: \",word,\" | Stemming using D4: \",word_root_word_mapping[word],\" | Stemming using Porter Stemmer: \",stemmer.stem(word))\n",
    "    print(\"*\"*100)"
   ]
  },
  {
   "cell_type": "markdown",
   "metadata": {},
   "source": [
    "# Clustering using Levenstein distance"
   ]
  },
  {
   "cell_type": "code",
   "execution_count": null,
   "metadata": {},
   "outputs": [],
   "source": [
    "Levenstein_distance_matrix = np.zeros((23531,23531))\n",
    "for i in range(23531):\n",
    "    for j in range(23531): \n",
    "        if i == j:\n",
    "            Levenstein_distance_matrix[i][j] = 0\n",
    "        elif Levenstein_distance_matrix[j][i] > 0:\n",
    "            Levenstein_distance_matrix[i][j] = Levenstein_distance_matrix[j][i]\n",
    "        else:\n",
    "          Levenstein_distance_matrix[i][j] = edit_distance(word_list[i],word_list[j])"
   ]
  },
  {
   "cell_type": "code",
   "execution_count": null,
   "metadata": {},
   "outputs": [],
   "source": [
    "dataframe = pd.DataFrame(Levenstein_distance_matrix)\n",
    "dataframe.to_csv(\"/content/gdrive/My Drive/Information_Retrieval/Levenstein_distance_matrix.csv\")\n",
    "data_Levenstein_distance = pd.read_csv('/content/gdrive/My Drive/Information_Retrieval/Levenstein_distance_matrix.csv',header = None)"
   ]
  },
  {
   "cell_type": "code",
   "execution_count": null,
   "metadata": {},
   "outputs": [],
   "source": [
    "Levenstein_distance_matrix = data_Levenstein_distance.apply(pd.to_numeric)"
   ]
  },
  {
   "cell_type": "code",
   "execution_count": 60,
   "metadata": {},
   "outputs": [],
   "source": [
    "threshold_values = np.arange(1,28,1)"
   ]
  },
  {
   "cell_type": "code",
   "execution_count": null,
   "metadata": {},
   "outputs": [],
   "source": [
    "threshold_map = dict()\n",
    "for threshold in threshold_values:\n",
    "  agg_clustering = AgglomerativeClustering(n_clusters = None,linkage='complete',affinity='precomputed',distance_threshold = threshold)\n",
    "  agg_clustering.fit(Levenstein_distance_matrix)\n",
    "  number_of_clusters = agg_clustering.n_clusters_\n",
    "  cluster_labels = agg_clustering.labels_\n",
    "  threshold_map[threshold] = [number_of_clusters,cluster_labels]"
   ]
  },
  {
   "cell_type": "code",
   "execution_count": null,
   "metadata": {},
   "outputs": [],
   "source": [
    "with open('/content/gdrive/My Drive/Information_Retrieval/Levenstein_distance_data.pickle', 'wb') as handle:\n",
    "    pickle.dump(threshold_map, handle, protocol=pickle.HIGHEST_PROTOCOL)"
   ]
  },
  {
   "cell_type": "code",
   "execution_count": 61,
   "metadata": {},
   "outputs": [],
   "source": [
    "threshold_map = dict()\n",
    "with open('Levenstein_distance_cluster_data.pickle', 'rb') as handle:\n",
    "    threshold_map = pickle.load(handle)"
   ]
  },
  {
   "cell_type": "code",
   "execution_count": 62,
   "metadata": {},
   "outputs": [],
   "source": [
    "number_of_clusters = []\n",
    "for i in threshold_values:\n",
    "  number_of_clusters.append(threshold_map[i][0]) "
   ]
  },
  {
   "cell_type": "code",
   "execution_count": 63,
   "metadata": {},
   "outputs": [
    {
     "data": {
      "text/plain": [
       "Text(0.5, 1.0, 'Distance Levenstein distance')"
      ]
     },
     "execution_count": 63,
     "metadata": {},
     "output_type": "execute_result"
    },
    {
     "data": {
      "image/png": "[encoded data removed]",
      "text/plain": [
       "<Figure size 432x288 with 1 Axes>"
      ]
     },
     "metadata": {
      "needs_background": "light"
     },
     "output_type": "display_data"
    }
   ],
   "source": [
    "plt.grid()\n",
    "plt.plot(threshold_values,number_of_clusters)\n",
    "plt.scatter(threshold_values,number_of_clusters)\n",
    "plt.xlabel(\"Threshold Values\")\n",
    "plt.ylabel(\"Number of clusters\")\n",
    "plt.title(\"Distance Levenstein distance\")"
   ]
  },
  {
   "cell_type": "code",
   "execution_count": 64,
   "metadata": {},
   "outputs": [
    {
     "data": {
      "text/plain": [
       "{1: [23531,\n",
       "  array([23530, 23529, 20997, ...,     3,     1,     0], dtype=int64)],\n",
       " 2: [15815,\n",
       "  array([ 5069, 13150, 10498, ...,  1549,  1043,  2421], dtype=int64)],\n",
       " 3: [10499,\n",
       "  array([   82,  6932, 10498, ...,  1413,  1110,  4844], dtype=int64)],\n",
       " 4: [6973, array([   7, 3342, 4016, ..., 4609, 1732, 1703], dtype=int64)],\n",
       " 5: [4600, array([   0,  907, 4016, ...,    0, 1732, 3408], dtype=int64)],\n",
       " 6: [2986, array([   0, 1045,  877, ...,    0,  445,  316], dtype=int64)],\n",
       " 7: [1886, array([   0,  932, 1755, ...,    0,  598, 1269], dtype=int64)],\n",
       " 8: [1180, array([  0, 392, 563, ...,   0,  95,  95], dtype=int64)],\n",
       " 9: [709, array([  0,  49, 159, ...,   0, 103, 103], dtype=int64)],\n",
       " 10: [397, array([  0,   0, 156, ...,   0,  13,  13], dtype=int64)],\n",
       " 11: [222, array([ 0,  0, 28, ...,  0,  0,  0], dtype=int64)],\n",
       " 12: [114, array([ 0,  0, 17, ...,  0,  0,  0], dtype=int64)],\n",
       " 13: [58, array([ 0,  0, 14, ...,  0,  0,  0], dtype=int64)],\n",
       " 14: [25, array([0, 0, 0, ..., 0, 0, 0], dtype=int64)],\n",
       " 15: [11, array([0, 0, 0, ..., 0, 0, 0], dtype=int64)],\n",
       " 16: [6, array([0, 0, 0, ..., 0, 0, 0], dtype=int64)],\n",
       " 17: [3, array([0, 0, 0, ..., 0, 0, 0], dtype=int64)],\n",
       " 18: [2, array([0, 0, 0, ..., 0, 0, 0], dtype=int64)],\n",
       " 19: [2, array([0, 0, 0, ..., 0, 0, 0], dtype=int64)],\n",
       " 20: [2, array([0, 0, 0, ..., 0, 0, 0], dtype=int64)],\n",
       " 21: [2, array([0, 0, 0, ..., 0, 0, 0], dtype=int64)],\n",
       " 22: [2, array([0, 0, 0, ..., 0, 0, 0], dtype=int64)],\n",
       " 23: [2, array([0, 0, 0, ..., 0, 0, 0], dtype=int64)],\n",
       " 24: [2, array([0, 0, 0, ..., 0, 0, 0], dtype=int64)],\n",
       " 25: [2, array([0, 0, 0, ..., 0, 0, 0], dtype=int64)],\n",
       " 26: [2, array([0, 0, 0, ..., 0, 0, 0], dtype=int64)],\n",
       " 27: [2, array([0, 0, 0, ..., 0, 0, 0], dtype=int64)]}"
      ]
     },
     "execution_count": 64,
     "metadata": {},
     "output_type": "execute_result"
    }
   ],
   "source": [
    "threshold_map"
   ]
  },
  {
   "cell_type": "code",
   "execution_count": 65,
   "metadata": {},
   "outputs": [],
   "source": [
    "list_of_clusters_and_their_words = []\n",
    "threshold = 2\n",
    "cluster_words_mapping = dict()\n",
    "cluster_lables = threshold_map[threshold][1]\n",
    "\n",
    "for i in range(len(cluster_lables)):\n",
    "  if cluster_words_mapping.get(cluster_lables[i]) == None:\n",
    "    cluster_words_mapping[cluster_lables[i]] = [word_list[i]]\n",
    "  else:\n",
    "    cluster_words_mapping[cluster_lables[i]].append(word_list[i])"
   ]
  },
  {
   "cell_type": "code",
   "execution_count": 66,
   "metadata": {},
   "outputs": [],
   "source": [
    "word_root_word_mapping = dict()\n",
    "for k,v in cluster_words_mapping.items():\n",
    "  root_word = commonprefix(v)\n",
    "  for word in v:\n",
    "    word_root_word_mapping[word] = root_word"
   ]
  },
  {
   "cell_type": "code",
   "execution_count": 69,
   "metadata": {},
   "outputs": [
    {
     "data": {
      "text/plain": [
       "23531"
      ]
     },
     "execution_count": 69,
     "metadata": {},
     "output_type": "execute_result"
    }
   ],
   "source": [
    "len(word_root_word_mapping)"
   ]
  },
  {
   "cell_type": "code",
   "execution_count": null,
   "metadata": {
    "scrolled": true
   },
   "outputs": [],
   "source": [
    "count = 0\n",
    "for word in word_list:\n",
    "    stemmer = PorterStemmer()\n",
    "    \n",
    "    if word_root_word_mapping[word] == stemmer.stem(word):\n",
    "        count+=1\n",
    "        \n",
    "    print(\"Original Word: \",word,\" | Stemming using Levenstein distance: \",word_root_word_mapping[word],\" | Stemming using Porter Stemmer: \",stemmer.stem(word))\n",
    "    print(\"*\"*100)"
   ]
  }
 ],
 "metadata": {
  "kernelspec": {
   "display_name": "Python 3",
   "language": "python",
   "name": "python3"
  },
  "language_info": {
   "codemirror_mode": {
    "name": "ipython",
    "version": 3
   },
   "file_extension": ".py",
   "mimetype": "text/x-python",
   "name": "python",
   "nbconvert_exporter": "python",
   "pygments_lexer": "ipython3",
   "version": "3.7.3"
  }
 },
 "nbformat": 4,
 "nbformat_minor": 2
}
